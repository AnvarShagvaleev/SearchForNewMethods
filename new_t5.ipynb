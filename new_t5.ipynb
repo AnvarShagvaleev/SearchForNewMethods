{
 "cells": [
  {
   "cell_type": "code",
   "execution_count": 1,
   "metadata": {},
   "outputs": [
    {
     "name": "stderr",
     "output_type": "stream",
     "text": [
      "/var/folders/7g/1dqbz5hx5994z2r91kw1_k2m0000gn/T/ipykernel_74148/3921609273.py:7: DeprecationWarning: Importing display from IPython.core.display is deprecated since IPython 7.14, please import from IPython display\n",
      "  from IPython.core.display import display, HTML\n"
     ]
    }
   ],
   "source": [
    "from Hierarchy.PipelineFunctions.MainWorkers import FUNCOFMETHODS, times_when_method_better, RunExperiment, ReadLogs, new_RunExperiment, new_generator\n",
    "import matplotlib.pyplot as plt\n",
    "import seaborn as sns\n",
    "import scipy.stats as sts\n",
    "import pandas as pd\n",
    "import numpy as np\n",
    "from IPython.core.display import display, HTML\n",
    "from tqdm import tqdm\n",
    "import os\n",
    "import pickle"
   ]
  },
  {
   "cell_type": "code",
   "execution_count": 2,
   "metadata": {},
   "outputs": [],
   "source": [
    "def generation(size, dim):\n",
    "    norm_dist = sts.norm(0, 1000)\n",
    "    x = norm_dist.rvs(size).astype(int)\n",
    "\n",
    "    if dim == 1:\n",
    "        y = np.zeros(len(x))\n",
    "    elif dim == 2:\n",
    "        y = norm_dist.rvs(size).astype(int)\n",
    "\n",
    "    points = list(zip(x, y))\n",
    "    points = np.unique(points, axis=0)\n",
    "    \n",
    "    return np.array(points)"
   ]
  },
  {
   "cell_type": "code",
   "execution_count": 3,
   "metadata": {},
   "outputs": [],
   "source": [
    "file_name = new_generator(generation, 1000, 5, 100, 1)"
   ]
  },
  {
   "cell_type": "code",
   "execution_count": 4,
   "metadata": {},
   "outputs": [],
   "source": [
    "file_samples = open(file_name, 'rb')\n",
    "Samples = pickle.load(file_samples)"
   ]
  },
  {
   "cell_type": "code",
   "execution_count": 5,
   "metadata": {},
   "outputs": [
    {
     "name": "stderr",
     "output_type": "stream",
     "text": [
      "100%|██████████| 100/100 [00:00<00:00, 148.00it/s]\n",
      "100%|██████████| 100/100 [00:00<00:00, 164.18it/s]\n",
      "100%|██████████| 100/100 [00:00<00:00, 162.33it/s]\n"
     ]
    }
   ],
   "source": [
    "# euclidean - евклидово\n",
    "# cityblock - манхэттена\n",
    "# chebyshev - чевышева\n",
    "\n",
    "for dist_metric in ('euclidean', 'cityblock', 'chebyshev'):\n",
    "    new_RunExperiment(dist_metric, file_name[:-8], Samples)"
   ]
  },
  {
   "cell_type": "code",
   "execution_count": null,
   "metadata": {},
   "outputs": [],
   "source": []
  },
  {
   "cell_type": "code",
   "execution_count": null,
   "metadata": {},
   "outputs": [],
   "source": []
  }
 ],
 "metadata": {
  "kernelspec": {
   "display_name": "venv",
   "language": "python",
   "name": "python3"
  },
  "language_info": {
   "codemirror_mode": {
    "name": "ipython",
    "version": 3
   },
   "file_extension": ".py",
   "mimetype": "text/x-python",
   "name": "python",
   "nbconvert_exporter": "python",
   "pygments_lexer": "ipython3",
   "version": "3.10.2"
  },
  "orig_nbformat": 4,
  "vscode": {
   "interpreter": {
    "hash": "c6ffd68500972d28465f021baa2ff4a7fbf6f841c23c59c0980ff9e31e376a9e"
   }
  }
 },
 "nbformat": 4,
 "nbformat_minor": 2
}

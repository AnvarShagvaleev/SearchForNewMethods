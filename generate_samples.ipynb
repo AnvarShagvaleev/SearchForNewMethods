{
 "cells": [
  {
   "cell_type": "code",
   "execution_count": null,
   "metadata": {},
   "outputs": [],
   "source": [
    "# 5 - 10000\n",
    "# 10 - 1000\n",
    "# 100 - 100"
   ]
  },
  {
   "cell_type": "code",
   "execution_count": 109,
   "metadata": {},
   "outputs": [],
   "source": [
    "from Hierarchy.PipelineFunctions.MainWorkers import times_when_method_better, MakeDendogram, generator, RunExperiment, ReadLogs\n",
    "import scipy.stats as sts\n",
    "import pandas as pd\n",
    "import numpy as np\n",
    "import pickle"
   ]
  },
  {
   "cell_type": "code",
   "execution_count": 118,
   "metadata": {},
   "outputs": [],
   "source": [
    "def generation(size, dim):\n",
    "    distribution = sts.uniform(-5000, 5000)\n",
    "    x = distribution.rvs(size).astype(int)\n",
    "    \n",
    "    if dim == 1:\n",
    "        y = np.zeros(len(x))\n",
    "    elif dim == 2:\n",
    "        y = distribution.rvs(size).astype(int)\n",
    "\n",
    "    points = list(zip(x, y))\n",
    "    points = np.unique(points, axis=0)\n",
    "    \n",
    "    return np.array(points)"
   ]
  },
  {
   "cell_type": "code",
   "execution_count": 120,
   "metadata": {},
   "outputs": [],
   "source": [
    "# sizes = ((10, 1000), (100, 1000), (1000, 100))\n",
    "# for sample_size, iter_number in sizes:\n",
    "#     for dim in (1, 2):\n",
    "#         file_name = generator(generation, sample_size * iter_number + 1000, sample_size, iter_number, dim)\n",
    "#         with open(file_name, 'rb') as file_samples:\n",
    "#             Samples = pickle.load(file_samples)\n",
    "#         for dist_metric in ('euclidean', 'cityblock', 'chebyshev'):\n",
    "#             RunExperiment(dist_metric, file_name[:-8], Samples)"
   ]
  },
  {
   "cell_type": "code",
   "execution_count": 119,
   "metadata": {},
   "outputs": [
    {
     "name": "stderr",
     "output_type": "stream",
     "text": [
      "100%|██████████| 100/100 [11:40:25<00:00, 420.25s/it]  \n",
      "100%|██████████| 100/100 [2:31:21<00:00, 90.81s/it]  \n",
      "100%|██████████| 100/100 [3:24:51<00:00, 122.92s/it] \n",
      "100%|██████████| 100/100 [2:14:18<00:00, 80.59s/it] \n",
      "100%|██████████| 100/100 [3:13:29<00:00, 116.10s/it]  \n",
      "100%|██████████| 100/100 [3:08:27<00:00, 113.07s/it]  \n"
     ]
    }
   ],
   "source": [
    "sample_size = 100\n",
    "iter_number = 1000\n",
    "\n",
    "for dim in (1, 2):\n",
    "    file_name = generator(generation, sample_size * iter_number + 5000, sample_size, iter_number, dim)\n",
    "    with open(file_name, 'rb') as file_samples:\n",
    "        Samples = pickle.load(file_samples)\n",
    "    for dist_metric in ('euclidean', 'cityblock', 'chebyshev'):\n",
    "        RunExperiment(dist_metric, file_name[:-8], Samples)"
   ]
  },
  {
   "cell_type": "code",
   "execution_count": null,
   "metadata": {},
   "outputs": [],
   "source": []
  }
 ],
 "metadata": {
  "kernelspec": {
   "display_name": "venv",
   "language": "python",
   "name": "python3"
  },
  "language_info": {
   "codemirror_mode": {
    "name": "ipython",
    "version": 3
   },
   "file_extension": ".py",
   "mimetype": "text/x-python",
   "name": "python",
   "nbconvert_exporter": "python",
   "pygments_lexer": "ipython3",
   "version": "3.10.2"
  },
  "orig_nbformat": 4,
  "vscode": {
   "interpreter": {
    "hash": "c6ffd68500972d28465f021baa2ff4a7fbf6f841c23c59c0980ff9e31e376a9e"
   }
  }
 },
 "nbformat": 4,
 "nbformat_minor": 2
}

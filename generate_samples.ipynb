{
 "cells": [
  {
   "cell_type": "code",
   "execution_count": null,
   "metadata": {},
   "outputs": [],
   "source": [
    "# 5 - 10000\n",
    "# 10 - 1000\n",
    "# 100 - 100"
   ]
  },
  {
   "cell_type": "code",
   "execution_count": 2,
   "metadata": {},
   "outputs": [],
   "source": [
    "from Hierarchy.PipelineFunctions.MainWorkers import times_when_method_better, MakeDendogram, generator, RunExperiment, ReadLogs\n",
    "import scipy.stats as sts\n",
    "import pandas as pd\n",
    "import numpy as np\n",
    "import pickle"
   ]
  },
  {
   "cell_type": "code",
   "execution_count": 3,
   "metadata": {},
   "outputs": [],
   "source": [
    "def generation(size, dim):\n",
    "    norm_dist = sts.norm(0, 1000)\n",
    "    x = norm_dist.rvs(size).astype(int)\n",
    "\n",
    "    if dim == 1:\n",
    "        y = np.zeros(len(x))\n",
    "    elif dim == 2:\n",
    "        y = norm_dist.rvs(size).astype(int)\n",
    "\n",
    "    points = list(zip(x, y))\n",
    "    points = np.unique(points, axis=0)\n",
    "    \n",
    "    return np.array(points)"
   ]
  },
  {
   "cell_type": "code",
   "execution_count": 4,
   "metadata": {},
   "outputs": [
    {
     "name": "stderr",
     "output_type": "stream",
     "text": [
      "100%|██████████| 10000/10000 [00:59<00:00, 167.76it/s]\n",
      "100%|██████████| 10000/10000 [00:59<00:00, 168.85it/s]\n",
      "100%|██████████| 10000/10000 [00:59<00:00, 168.44it/s]\n",
      "100%|██████████| 10000/10000 [00:59<00:00, 167.44it/s]\n",
      "100%|██████████| 10000/10000 [01:00<00:00, 165.81it/s]\n",
      "100%|██████████| 10000/10000 [00:59<00:00, 166.99it/s]\n",
      "100%|██████████| 1000/1000 [00:18<00:00, 54.40it/s]\n",
      "100%|██████████| 1000/1000 [00:18<00:00, 54.56it/s]\n",
      "100%|██████████| 1000/1000 [00:18<00:00, 54.47it/s]\n",
      "100%|██████████| 1000/1000 [00:18<00:00, 54.49it/s]\n",
      "100%|██████████| 1000/1000 [00:18<00:00, 54.34it/s]\n",
      "100%|██████████| 1000/1000 [00:18<00:00, 54.16it/s]\n",
      "100%|██████████| 100/100 [02:38<00:00,  1.59s/it]\n",
      "100%|██████████| 100/100 [02:40<00:00,  1.60s/it]\n",
      "100%|██████████| 100/100 [02:39<00:00,  1.60s/it]\n",
      "100%|██████████| 100/100 [02:59<00:00,  1.79s/it]\n",
      "100%|██████████| 100/100 [02:51<00:00,  1.71s/it]\n",
      "100%|██████████| 100/100 [02:52<00:00,  1.72s/it]\n"
     ]
    }
   ],
   "source": [
    "for sample_size, iter_number in ((5, 10000), (10, 1000), (100, 100)):\n",
    "    for dim in (1, 2):\n",
    "        file_name = generator(generation, sample_size * iter_number + 1000, sample_size, iter_number, dim)\n",
    "        with open(file_name, 'rb') as file_samples:\n",
    "            Samples = pickle.load(file_samples)\n",
    "        for dist_metric in ('euclidean', 'cityblock', 'chebyshev'):\n",
    "            RunExperiment(dist_metric, file_name[:-8], Samples)"
   ]
  },
  {
   "cell_type": "code",
   "execution_count": null,
   "metadata": {},
   "outputs": [],
   "source": []
  }
 ],
 "metadata": {
  "kernelspec": {
   "display_name": "venv",
   "language": "python",
   "name": "python3"
  },
  "language_info": {
   "codemirror_mode": {
    "name": "ipython",
    "version": 3
   },
   "file_extension": ".py",
   "mimetype": "text/x-python",
   "name": "python",
   "nbconvert_exporter": "python",
   "pygments_lexer": "ipython3",
   "version": "3.10.2 (v3.10.2:a58ebcc701, Jan 13 2022, 14:50:16) [Clang 13.0.0 (clang-1300.0.29.30)]"
  },
  "orig_nbformat": 4,
  "vscode": {
   "interpreter": {
    "hash": "c6ffd68500972d28465f021baa2ff4a7fbf6f841c23c59c0980ff9e31e376a9e"
   }
  }
 },
 "nbformat": 4,
 "nbformat_minor": 2
}

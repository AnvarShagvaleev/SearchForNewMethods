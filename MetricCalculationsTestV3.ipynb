{
 "cells": [
  {
   "attachments": {},
   "cell_type": "markdown",
   "metadata": {},
   "source": [
    "# Подключаем библиотеки"
   ]
  },
  {
   "cell_type": "code",
   "execution_count": 20,
   "metadata": {},
   "outputs": [],
   "source": [
    "from MainWorkers import FUNCOFMETHODS, pipe, get_gen_sample, times_when_method_better, RunCheck\n",
    "import numpy as np\n",
    "import scipy.stats as sts\n",
    "import pandas as pd\n",
    "import seaborn as sns\n",
    "import matplotlib.pyplot as plt\n",
    "from SomeFunc import comparison_of_two\n",
    "import pickle"
   ]
  },
  {
   "cell_type": "code",
   "execution_count": 21,
   "metadata": {},
   "outputs": [],
   "source": [
    "with open(\"./TestSamples/Samples/M 2023-04-09 16:08:50\", \"rb\") as fp:\n",
    "    Samples = pickle.load(fp)"
   ]
  },
  {
   "cell_type": "code",
   "execution_count": 22,
   "metadata": {},
   "outputs": [],
   "source": [
    "ResultsForMax, ResultsForSum, Samples, Ultradists = RunCheck(Samples, FUNCOFMETHODS)"
   ]
  },
  {
   "cell_type": "code",
   "execution_count": null,
   "metadata": {},
   "outputs": [],
   "source": []
  },
  {
   "cell_type": "code",
   "execution_count": null,
   "metadata": {},
   "outputs": [],
   "source": []
  },
  {
   "attachments": {},
   "cell_type": "markdown",
   "metadata": {},
   "source": [
    "# Подсчет результатов"
   ]
  },
  {
   "cell_type": "code",
   "execution_count": 23,
   "metadata": {},
   "outputs": [
    {
     "data": {
      "text/html": [
       "<div>\n",
       "<style scoped>\n",
       "    .dataframe tbody tr th:only-of-type {\n",
       "        vertical-align: middle;\n",
       "    }\n",
       "\n",
       "    .dataframe tbody tr th {\n",
       "        vertical-align: top;\n",
       "    }\n",
       "\n",
       "    .dataframe thead th {\n",
       "        text-align: right;\n",
       "    }\n",
       "</style>\n",
       "<table border=\"1\" class=\"dataframe\">\n",
       "  <thead>\n",
       "    <tr style=\"text-align: right;\">\n",
       "      <th></th>\n",
       "      <th>single_linked</th>\n",
       "      <th>complete_linked</th>\n",
       "      <th>group_average_linked</th>\n",
       "      <th>weighted_average_linked</th>\n",
       "      <th>min_max_linked</th>\n",
       "      <th>median_linked</th>\n",
       "    </tr>\n",
       "  </thead>\n",
       "  <tbody>\n",
       "    <tr>\n",
       "      <th>0</th>\n",
       "      <td>143.078367</td>\n",
       "      <td>155.768467</td>\n",
       "      <td>82.685215</td>\n",
       "      <td>86.032713</td>\n",
       "      <td>77.884233</td>\n",
       "      <td>78.620052</td>\n",
       "    </tr>\n",
       "    <tr>\n",
       "      <th>1</th>\n",
       "      <td>94.747695</td>\n",
       "      <td>66.820415</td>\n",
       "      <td>40.845728</td>\n",
       "      <td>54.321220</td>\n",
       "      <td>33.410208</td>\n",
       "      <td>42.237736</td>\n",
       "    </tr>\n",
       "    <tr>\n",
       "      <th>2</th>\n",
       "      <td>61.184774</td>\n",
       "      <td>61.184774</td>\n",
       "      <td>34.171907</td>\n",
       "      <td>35.084156</td>\n",
       "      <td>30.592387</td>\n",
       "      <td>40.417503</td>\n",
       "    </tr>\n",
       "    <tr>\n",
       "      <th>3</th>\n",
       "      <td>75.818337</td>\n",
       "      <td>88.833671</td>\n",
       "      <td>80.984940</td>\n",
       "      <td>80.332748</td>\n",
       "      <td>36.975442</td>\n",
       "      <td>63.493385</td>\n",
       "    </tr>\n",
       "    <tr>\n",
       "      <th>4</th>\n",
       "      <td>93.239285</td>\n",
       "      <td>93.239285</td>\n",
       "      <td>47.198639</td>\n",
       "      <td>49.861453</td>\n",
       "      <td>46.619643</td>\n",
       "      <td>49.742050</td>\n",
       "    </tr>\n",
       "  </tbody>\n",
       "</table>\n",
       "</div>"
      ],
      "text/plain": [
       "   single_linked  complete_linked  group_average_linked  \\\n",
       "0     143.078367       155.768467             82.685215   \n",
       "1      94.747695        66.820415             40.845728   \n",
       "2      61.184774        61.184774             34.171907   \n",
       "3      75.818337        88.833671             80.984940   \n",
       "4      93.239285        93.239285             47.198639   \n",
       "\n",
       "   weighted_average_linked  min_max_linked  median_linked  \n",
       "0                86.032713       77.884233      78.620052  \n",
       "1                54.321220       33.410208      42.237736  \n",
       "2                35.084156       30.592387      40.417503  \n",
       "3                80.332748       36.975442      63.493385  \n",
       "4                49.861453       46.619643      49.742050  "
      ]
     },
     "execution_count": 23,
     "metadata": {},
     "output_type": "execute_result"
    }
   ],
   "source": [
    "ResultsForMax.head()"
   ]
  },
  {
   "cell_type": "code",
   "execution_count": 24,
   "metadata": {},
   "outputs": [
    {
     "data": {
      "text/html": [
       "<div>\n",
       "<style scoped>\n",
       "    .dataframe tbody tr th:only-of-type {\n",
       "        vertical-align: middle;\n",
       "    }\n",
       "\n",
       "    .dataframe tbody tr th {\n",
       "        vertical-align: top;\n",
       "    }\n",
       "\n",
       "    .dataframe thead th {\n",
       "        text-align: right;\n",
       "    }\n",
       "</style>\n",
       "<table border=\"1\" class=\"dataframe\">\n",
       "  <thead>\n",
       "    <tr style=\"text-align: right;\">\n",
       "      <th></th>\n",
       "      <th>single_linked</th>\n",
       "      <th>complete_linked</th>\n",
       "      <th>group_average_linked</th>\n",
       "      <th>weighted_average_linked</th>\n",
       "      <th>min_max_linked</th>\n",
       "      <th>median_linked</th>\n",
       "    </tr>\n",
       "  </thead>\n",
       "  <tbody>\n",
       "    <tr>\n",
       "      <th>0</th>\n",
       "      <td>84.566320</td>\n",
       "      <td>114.021431</td>\n",
       "      <td>65.092694</td>\n",
       "      <td>65.092694</td>\n",
       "      <td>65.092694</td>\n",
       "      <td>65.092694</td>\n",
       "    </tr>\n",
       "    <tr>\n",
       "      <th>1</th>\n",
       "      <td>80.260717</td>\n",
       "      <td>40.094506</td>\n",
       "      <td>34.201206</td>\n",
       "      <td>39.591403</td>\n",
       "      <td>31.226998</td>\n",
       "      <td>28.981009</td>\n",
       "    </tr>\n",
       "    <tr>\n",
       "      <th>2</th>\n",
       "      <td>46.087889</td>\n",
       "      <td>37.497041</td>\n",
       "      <td>30.909724</td>\n",
       "      <td>34.138240</td>\n",
       "      <td>32.341532</td>\n",
       "      <td>28.689978</td>\n",
       "    </tr>\n",
       "    <tr>\n",
       "      <th>3</th>\n",
       "      <td>36.660914</td>\n",
       "      <td>41.925737</td>\n",
       "      <td>36.681287</td>\n",
       "      <td>36.660914</td>\n",
       "      <td>38.018872</td>\n",
       "      <td>28.434829</td>\n",
       "    </tr>\n",
       "    <tr>\n",
       "      <th>4</th>\n",
       "      <td>58.357064</td>\n",
       "      <td>56.967472</td>\n",
       "      <td>46.524953</td>\n",
       "      <td>46.524953</td>\n",
       "      <td>46.524953</td>\n",
       "      <td>46.524953</td>\n",
       "    </tr>\n",
       "  </tbody>\n",
       "</table>\n",
       "</div>"
      ],
      "text/plain": [
       "   single_linked  complete_linked  group_average_linked  \\\n",
       "0      84.566320       114.021431             65.092694   \n",
       "1      80.260717        40.094506             34.201206   \n",
       "2      46.087889        37.497041             30.909724   \n",
       "3      36.660914        41.925737             36.681287   \n",
       "4      58.357064        56.967472             46.524953   \n",
       "\n",
       "   weighted_average_linked  min_max_linked  median_linked  \n",
       "0                65.092694       65.092694      65.092694  \n",
       "1                39.591403       31.226998      28.981009  \n",
       "2                34.138240       32.341532      28.689978  \n",
       "3                36.660914       38.018872      28.434829  \n",
       "4                46.524953       46.524953      46.524953  "
      ]
     },
     "execution_count": 24,
     "metadata": {},
     "output_type": "execute_result"
    }
   ],
   "source": [
    "ResultsForSum.head()"
   ]
  },
  {
   "attachments": {},
   "cell_type": "markdown",
   "metadata": {},
   "source": [
    "# Матрица сравнения результатов"
   ]
  },
  {
   "cell_type": "code",
   "execution_count": 25,
   "metadata": {},
   "outputs": [
    {
     "data": {
      "text/plain": [
       "<AxesSubplot: >"
      ]
     },
     "execution_count": 25,
     "metadata": {},
     "output_type": "execute_result"
    },
    {
     "data": {
      "image/png": "[encoded data removed]",
      "text/plain": [
       "<Figure size 640x480 with 2 Axes>"
      ]
     },
     "metadata": {},
     "output_type": "display_data"
    }
   ],
   "source": [
    "sns.heatmap(times_when_method_better(ResultsForMax), annot=True)"
   ]
  },
  {
   "cell_type": "code",
   "execution_count": 26,
   "metadata": {},
   "outputs": [
    {
     "data": {
      "text/plain": [
       "<AxesSubplot: >"
      ]
     },
     "execution_count": 26,
     "metadata": {},
     "output_type": "execute_result"
    },
    {
     "data": {
      "image/png": "[encoded data removed]",
      "text/plain": [
       "<Figure size 640x480 with 2 Axes>"
      ]
     },
     "metadata": {},
     "output_type": "display_data"
    }
   ],
   "source": [
    "sns.heatmap(times_when_method_better(ResultsForSum), annot=True)"
   ]
  },
  {
   "cell_type": "code",
   "execution_count": 27,
   "metadata": {},
   "outputs": [
    {
     "data": {
      "text/plain": [
       "97"
      ]
     },
     "execution_count": 27,
     "metadata": {},
     "output_type": "execute_result"
    }
   ],
   "source": [
    "ResultsForSum.query(\"median_linked <= min_max_linked\").shape[0] "
   ]
  },
  {
   "attachments": {},
   "cell_type": "markdown",
   "metadata": {},
   "source": [
    "Проверку делать на < или на <=???"
   ]
  },
  {
   "attachments": {},
   "cell_type": "markdown",
   "metadata": {},
   "source": [
    "# Проверка на монотонность"
   ]
  },
  {
   "cell_type": "code",
   "execution_count": 28,
   "metadata": {},
   "outputs": [
    {
     "name": "stdout",
     "output_type": "stream",
     "text": [
      "SINGLE_LINKED\n",
      "the method is monotonous\n",
      "\n",
      "COMPLETE_LINKED\n",
      "the method is monotonous\n",
      "\n",
      "GROUP_AVERAGE_LINKED\n",
      "the method is monotonous\n",
      "\n",
      "WEIGHTED_AVERAGE_LINKED\n",
      "the method is monotonous\n",
      "\n",
      "MIN_MAX_LINKED\n",
      "Пример номер 27\n",
      "[23.104112188093136, 50.3194793295796, 48.43298868265925, 99.07825933985333]\n",
      "\n",
      "\n",
      "MEDIAN_LINKED\n",
      "Пример номер 27\n",
      "[23.104112188093136, 50.3194793295796, 48.43298868265925, 86.21389956150855]\n",
      "\n",
      "\n"
     ]
    }
   ],
   "source": [
    "for name_of_method in Ultradists.keys():\n",
    "    print(name_of_method.upper())\n",
    "    flag = 0\n",
    "    for num, ultra in enumerate(Ultradists[name_of_method]):\n",
    "        if sorted(ultra) != ultra:\n",
    "            print(f\"Пример номер {num}\")\n",
    "            print(ultra)\n",
    "            print()\n",
    "            print()\n",
    "            flag = 1\n",
    "    if flag != 1:\n",
    "        print(\"the method is monotonous\")\n",
    "        print()"
   ]
  },
  {
   "attachments": {},
   "cell_type": "markdown",
   "metadata": {},
   "source": [
    "### Анализ (Отлов примеров, когда МинМакс дает результаты хуже других методов)"
   ]
  },
  {
   "cell_type": "code",
   "execution_count": 29,
   "metadata": {},
   "outputs": [
    {
     "name": "stdout",
     "output_type": "stream",
     "text": [
      "Метрика 'Максимального отклонения'\n",
      "Сэмплы, когда min_max_linked дает результаты хуже, чем single_linked\n",
      "Случаев не обнаружено\n"
     ]
    }
   ],
   "source": [
    "comparison_of_two(ResultsForMax, Samples, 'min_max_linked', 'single_linked', 'max')"
   ]
  },
  {
   "cell_type": "code",
   "execution_count": 30,
   "metadata": {},
   "outputs": [
    {
     "name": "stdout",
     "output_type": "stream",
     "text": [
      "Метрика 'Максимального отклонения'\n",
      "Сэмплы, когда min_max_linked дает результаты хуже, чем complete_linked\n",
      "Случаев не обнаружено\n"
     ]
    }
   ],
   "source": [
    "comparison_of_two(ResultsForMax, Samples, 'min_max_linked', 'complete_linked', 'max')"
   ]
  },
  {
   "cell_type": "code",
   "execution_count": 31,
   "metadata": {},
   "outputs": [
    {
     "name": "stdout",
     "output_type": "stream",
     "text": [
      "Метрика 'Максимального отклонения'\n",
      "Сэмплы, когда min_max_linked дает результаты хуже, чем weighted_average_linked\n",
      "Номер выборки 19\n",
      "[[229.1 186.8]\n",
      " [ 96.   88.2]\n",
      " [226.8 203.7]\n",
      " [ 86.9 106.5]\n",
      " [ 80.6 124.6]]\n",
      "\n",
      "Номер выборки 44\n",
      "[[194.2 199.5]\n",
      " [100.8 114.2]\n",
      " [213.8 191.1]\n",
      " [120.9 101. ]\n",
      " [128.9  95.7]]\n",
      "\n"
     ]
    }
   ],
   "source": [
    "comparison_of_two(ResultsForMax, Samples, 'min_max_linked', 'weighted_average_linked', 'max')"
   ]
  },
  {
   "cell_type": "code",
   "execution_count": 32,
   "metadata": {},
   "outputs": [
    {
     "name": "stdout",
     "output_type": "stream",
     "text": [
      "Метрика 'Максимального отклонения'\n",
      "Сэмплы, когда min_max_linked дает результаты хуже, чем group_average_linked\n",
      "Номер выборки 19\n",
      "[[229.1 186.8]\n",
      " [ 96.   88.2]\n",
      " [226.8 203.7]\n",
      " [ 86.9 106.5]\n",
      " [ 80.6 124.6]]\n",
      "\n",
      "Номер выборки 44\n",
      "[[194.2 199.5]\n",
      " [100.8 114.2]\n",
      " [213.8 191.1]\n",
      " [120.9 101. ]\n",
      " [128.9  95.7]]\n",
      "\n"
     ]
    }
   ],
   "source": [
    "comparison_of_two(ResultsForMax, Samples, 'min_max_linked', 'group_average_linked', 'max')"
   ]
  },
  {
   "cell_type": "code",
   "execution_count": 33,
   "metadata": {},
   "outputs": [
    {
     "name": "stdout",
     "output_type": "stream",
     "text": [
      "Метрика 'Максимального отклонения'\n",
      "Сэмплы, когда min_max_linked дает результаты хуже, чем median_linked\n",
      "Номер выборки 19\n",
      "[[229.1 186.8]\n",
      " [ 96.   88.2]\n",
      " [226.8 203.7]\n",
      " [ 86.9 106.5]\n",
      " [ 80.6 124.6]]\n",
      "\n",
      "Номер выборки 44\n",
      "[[194.2 199.5]\n",
      " [100.8 114.2]\n",
      " [213.8 191.1]\n",
      " [120.9 101. ]\n",
      " [128.9  95.7]]\n",
      "\n",
      "Номер выборки 67\n",
      "[[178.  176.9]\n",
      " [133.3 146.4]\n",
      " [134.4 108.1]\n",
      " [173.5 175.8]\n",
      " [219.7 181.8]]\n",
      "\n"
     ]
    }
   ],
   "source": [
    "comparison_of_two(ResultsForMax, Samples, 'min_max_linked', 'median_linked', 'max')"
   ]
  },
  {
   "cell_type": "code",
   "execution_count": null,
   "metadata": {},
   "outputs": [],
   "source": []
  },
  {
   "cell_type": "code",
   "execution_count": null,
   "metadata": {},
   "outputs": [],
   "source": []
  },
  {
   "cell_type": "code",
   "execution_count": 34,
   "metadata": {},
   "outputs": [
    {
     "data": {
      "text/html": [
       "<div>\n",
       "<style scoped>\n",
       "    .dataframe tbody tr th:only-of-type {\n",
       "        vertical-align: middle;\n",
       "    }\n",
       "\n",
       "    .dataframe tbody tr th {\n",
       "        vertical-align: top;\n",
       "    }\n",
       "\n",
       "    .dataframe thead th {\n",
       "        text-align: right;\n",
       "    }\n",
       "</style>\n",
       "<table border=\"1\" class=\"dataframe\">\n",
       "  <thead>\n",
       "    <tr style=\"text-align: right;\">\n",
       "      <th></th>\n",
       "      <th>x</th>\n",
       "      <th>y</th>\n",
       "    </tr>\n",
       "  </thead>\n",
       "  <tbody>\n",
       "    <tr>\n",
       "      <th>0</th>\n",
       "      <td>170.8</td>\n",
       "      <td>143.4</td>\n",
       "    </tr>\n",
       "    <tr>\n",
       "      <th>1</th>\n",
       "      <td>202.1</td>\n",
       "      <td>182.8</td>\n",
       "    </tr>\n",
       "    <tr>\n",
       "      <th>2</th>\n",
       "      <td>151.6</td>\n",
       "      <td>129.7</td>\n",
       "    </tr>\n",
       "    <tr>\n",
       "      <th>3</th>\n",
       "      <td>92.4</td>\n",
       "      <td>86.5</td>\n",
       "    </tr>\n",
       "    <tr>\n",
       "      <th>4</th>\n",
       "      <td>114.6</td>\n",
       "      <td>92.9</td>\n",
       "    </tr>\n",
       "  </tbody>\n",
       "</table>\n",
       "</div>"
      ],
      "text/plain": [
       "       x      y\n",
       "0  170.8  143.4\n",
       "1  202.1  182.8\n",
       "2  151.6  129.7\n",
       "3   92.4   86.5\n",
       "4  114.6   92.9"
      ]
     },
     "execution_count": 34,
     "metadata": {},
     "output_type": "execute_result"
    }
   ],
   "source": [
    "# test_data = np.round_(Samples[27] * 100)\n",
    "test_data = Samples[27]\n",
    "pd.DataFrame(test_data, columns=['x', 'y'])"
   ]
  },
  {
   "cell_type": "code",
   "execution_count": 35,
   "metadata": {},
   "outputs": [
    {
     "data": {
      "image/png": "[encoded data removed]",
      "text/plain": [
       "<Figure size 640x480 with 1 Axes>"
      ]
     },
     "metadata": {},
     "output_type": "display_data"
    }
   ],
   "source": [
    "plt.scatter(test_data[:, 0], test_data[:, 1])\n",
    "\n",
    "for i in range(len(test_data)):\n",
    "    plt.text(test_data[i][0], test_data[i][1] + 0.03, str(i))"
   ]
  },
  {
   "cell_type": "code",
   "execution_count": 36,
   "metadata": {},
   "outputs": [
    {
     "name": "stdout",
     "output_type": "stream",
     "text": [
      "Distance matrix: 0 step\n",
      "           0           1          2           3           4\n",
      "0   0.000000   50.319479  23.586649   96.871926   75.555873\n",
      "1  50.319479    0.000000  73.279329  145.971847  125.452222\n",
      "2  23.586649   73.279329   0.000000   73.286288   52.184672\n",
      "3  96.871926  145.971847  73.286288    0.000000   23.104112\n",
      "4  75.555873  125.452222  52.184672   23.104112    0.000000\n",
      "\n",
      "Clusters:['0' '1' '2' '3' '4']\n",
      "\n",
      "\n",
      "('Clusters:', array(['(4, 3)', '0', '1', '2'], dtype='<U25'))\n",
      "Distance matrix: 1 step\n",
      "            (4, 3)          0           1           2\n",
      "(4, 3)    0.000000  86.213900  135.712034   62.735480\n",
      "0        86.213900   0.000000   50.319479   96.871926\n",
      "1       135.712034  50.319479    0.000000  145.971847\n",
      "2        62.735480  96.871926  145.971847    0.000000\n",
      "\n",
      "\n",
      "\n",
      "('Clusters:', array(['(0, 1)', '(4, 3)', '2'], dtype='<U25'))\n",
      "Distance matrix: 2 step\n",
      "            (0, 1)     (4, 3)          2\n",
      "(0, 1)    0.000000  110.76386  48.432989\n",
      "(4, 3)  110.763860    0.00000  62.735480\n",
      "2        48.432989   62.73548   0.000000\n",
      "\n",
      "\n",
      "\n",
      "('Clusters:', array(['((0, 1), 2)', '(4, 3)'], dtype='<U25'))\n",
      "Distance matrix: 3 step\n",
      "             ((0, 1), 2)     (4, 3)\n",
      "((0, 1), 2)     0.000000  99.078259\n",
      "(4, 3)         99.078259   0.000000\n",
      "\n",
      "\n",
      "\n",
      "('Clusters:', array(['(((0, 1), 2), (4, 3))'], dtype='<U25'))\n",
      "Distance matrix: 4 step\n",
      "                       (((0, 1), 2), (4, 3))\n",
      "(((0, 1), 2), (4, 3))                    0.0\n",
      "\n",
      "\n",
      "\n",
      "[23.104112188093136, 50.3194793295796, 48.43298868265925, 99.07825933985333]\n"
     ]
    }
   ],
   "source": [
    "from MinMaxHierarchy import MinMaxHierarchy\n",
    "\n",
    "clasters, init_dist, ultra_dists = MinMaxHierarchy(test_data, True)\n",
    "print(ultra_dists)"
   ]
  },
  {
   "cell_type": "code",
   "execution_count": 37,
   "metadata": {},
   "outputs": [
    {
     "name": "stdout",
     "output_type": "stream",
     "text": [
      "Distance matrix: 0 step\n",
      "           0           1          2           3           4\n",
      "0   0.000000   50.319479  23.586649   96.871926   75.555873\n",
      "1  50.319479    0.000000  73.279329  145.971847  125.452222\n",
      "2  23.586649   73.279329   0.000000   73.286288   52.184672\n",
      "3  96.871926  145.971847  73.286288    0.000000   23.104112\n",
      "4  75.555873  125.452222  52.184672   23.104112    0.000000\n",
      "\n",
      "Clusters:['0' '1' '2' '3' '4']\n",
      "\n",
      "\n",
      "('Clusters:', array(['(4, 3)', '0', '1', '2'], dtype='<U25'))\n",
      "Distance matrix: 1 step\n",
      "            0          1           2           3\n",
      "0    0.000000  86.213900  135.712034   62.735480\n",
      "1   86.213900   0.000000   50.319479   96.871926\n",
      "2  135.712034  50.319479    0.000000  145.971847\n",
      "3   62.735480  96.871926  145.971847    0.000000\n",
      "\n",
      "\n",
      "\n",
      "('Clusters:', array(['(0, 1)', '(4, 3)', '2'], dtype='<U25'))\n",
      "Distance matrix: 2 step\n",
      "            0           1           2\n",
      "0    0.000000  110.962967  121.421886\n",
      "1  110.962967    0.000000   62.735480\n",
      "2  121.421886   62.735480    0.000000\n",
      "\n",
      "\n",
      "\n",
      "('Clusters:', array(['((4, 3), 2)', '(0, 1)'], dtype='<U25'))\n",
      "Distance matrix: 3 step\n",
      "            0           1\n",
      "0    0.000000  116.192427\n",
      "1  116.192427    0.000000\n",
      "\n",
      "\n",
      "\n",
      "('Clusters:', array(['(((4, 3), 2), (0, 1))'], dtype='<U25'))\n",
      "Distance matrix: 4 step\n",
      "     0\n",
      "0  0.0\n",
      "\n",
      "\n",
      "\n"
     ]
    },
    {
     "data": {
      "text/plain": [
       "((((4, 3), 2), (0, 1)),\n",
       " array([[  0.        ,  50.31947933,  23.58664877,  96.87192576,\n",
       "          75.55587337],\n",
       "        [ 50.31947933,   0.        ,  73.2793286 , 145.9718466 ,\n",
       "         125.45222198],\n",
       "        [ 23.58664877,  73.2793286 ,   0.        ,  73.28628794,\n",
       "          52.18467208],\n",
       "        [ 96.87192576, 145.9718466 ,  73.28628794,   0.        ,\n",
       "          23.10411219],\n",
       "        [ 75.55587337, 125.45222198,  52.18467208,  23.10411219,\n",
       "           0.        ]]),\n",
       " [23.104112188093136,\n",
       "  50.3194793295796,\n",
       "  62.735480009450775,\n",
       "  116.19242655267414])"
      ]
     },
     "execution_count": 37,
     "metadata": {},
     "output_type": "execute_result"
    }
   ],
   "source": [
    "from HierarchyClusteringWithoutLogs import hierarchy\n",
    "from Linkages import single_linked\n",
    "from Linkages import weighted_average_linked\n",
    "\n",
    "hierarchy(test_data, metric='euclidean', method=weighted_average_linked, logs_turn_on=True)"
   ]
  },
  {
   "cell_type": "code",
   "execution_count": null,
   "metadata": {},
   "outputs": [],
   "source": []
  },
  {
   "cell_type": "code",
   "execution_count": null,
   "metadata": {},
   "outputs": [],
   "source": []
  },
  {
   "cell_type": "code",
   "execution_count": null,
   "metadata": {},
   "outputs": [],
   "source": []
  },
  {
   "cell_type": "code",
   "execution_count": null,
   "metadata": {},
   "outputs": [],
   "source": []
  }
 ],
 "metadata": {
  "kernelspec": {
   "display_name": "venv",
   "language": "python",
   "name": "python3"
  },
  "language_info": {
   "codemirror_mode": {
    "name": "ipython",
    "version": 3
   },
   "file_extension": ".py",
   "mimetype": "text/x-python",
   "name": "python",
   "nbconvert_exporter": "python",
   "pygments_lexer": "ipython3",
   "version": "3.10.2"
  },
  "orig_nbformat": 4,
  "vscode": {
   "interpreter": {
    "hash": "c6ffd68500972d28465f021baa2ff4a7fbf6f841c23c59c0980ff9e31e376a9e"
   }
  }
 },
 "nbformat": 4,
 "nbformat_minor": 2
}

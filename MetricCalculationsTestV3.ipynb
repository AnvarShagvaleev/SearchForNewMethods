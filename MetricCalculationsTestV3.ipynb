{
 "cells": [
  {
   "attachments": {},
   "cell_type": "markdown",
   "metadata": {},
   "source": [
    "# Подключаем библиотеки"
   ]
  },
  {
   "cell_type": "code",
   "execution_count": 1,
   "metadata": {},
   "outputs": [],
   "source": [
    "from MainWorkers import FUNCOFMETHODS, pipe, get_gen_sample, times_when_method_better, RunCheck\n",
    "import numpy as np\n",
    "import scipy.stats as sts\n",
    "import pandas as pd\n",
    "import seaborn as sns\n",
    "import matplotlib.pyplot as plt\n",
    "from SomeFunc import comparison_of_two\n",
    "import pickle"
   ]
  },
  {
   "cell_type": "code",
   "execution_count": 2,
   "metadata": {},
   "outputs": [],
   "source": [
    "with open(\"./TestSamples/Samples/M 2023-04-09 16:08:50\", \"rb\") as fp:\n",
    "    Samples = pickle.load(fp)"
   ]
  },
  {
   "cell_type": "code",
   "execution_count": 3,
   "metadata": {},
   "outputs": [],
   "source": [
    "ResultsForMax, ResultsForSum, Samples, Ultradists = RunCheck(Samples, FUNCOFMETHODS)"
   ]
  },
  {
   "attachments": {},
   "cell_type": "markdown",
   "metadata": {},
   "source": [
    "# Подсчет результатов"
   ]
  },
  {
   "attachments": {},
   "cell_type": "markdown",
   "metadata": {},
   "source": [
    "# Проверка на монотонность"
   ]
  },
  {
   "cell_type": "code",
   "execution_count": 4,
   "metadata": {},
   "outputs": [
    {
     "name": "stdout",
     "output_type": "stream",
     "text": [
      "SINGLE_LINKED\n",
      "the method is monotonous\n",
      "\n",
      "COMPLETE_LINKED\n",
      "the method is monotonous\n",
      "\n",
      "GROUP_AVERAGE_LINKED\n",
      "the method is monotonous\n",
      "\n",
      "WEIGHTED_AVERAGE_LINKED\n",
      "the method is monotonous\n",
      "\n",
      "MIN_MAX_LINKED\n",
      "Пример номер 27\n",
      "[23.104112188093136, 50.3194793295796, 48.43298868265925, 99.07825933985333]\n",
      "\n",
      "\n",
      "MEDIAN_LINKED\n",
      "Пример номер 27\n",
      "[23.104112188093136, 50.3194793295796, 48.43298868265925, 86.21389956150855]\n",
      "\n",
      "\n"
     ]
    }
   ],
   "source": [
    "for name_of_method in Ultradists.keys():\n",
    "    print(name_of_method.upper())\n",
    "    flag = 0\n",
    "    for num, ultra in enumerate(Ultradists[name_of_method]):\n",
    "        if sorted(ultra) != ultra:\n",
    "            print(f\"Пример номер {num}\")\n",
    "            print(ultra)\n",
    "            print()\n",
    "            print()\n",
    "            flag = 1\n",
    "    if flag != 1:\n",
    "        print(\"the method is monotonous\")\n",
    "        print()"
   ]
  },
  {
   "cell_type": "code",
   "execution_count": null,
   "metadata": {},
   "outputs": [],
   "source": []
  },
  {
   "cell_type": "code",
   "execution_count": 2,
   "metadata": {},
   "outputs": [
    {
     "data": {
      "text/html": [
       "<div>\n",
       "<style scoped>\n",
       "    .dataframe tbody tr th:only-of-type {\n",
       "        vertical-align: middle;\n",
       "    }\n",
       "\n",
       "    .dataframe tbody tr th {\n",
       "        vertical-align: top;\n",
       "    }\n",
       "\n",
       "    .dataframe thead th {\n",
       "        text-align: right;\n",
       "    }\n",
       "</style>\n",
       "<table border=\"1\" class=\"dataframe\">\n",
       "  <thead>\n",
       "    <tr style=\"text-align: right;\">\n",
       "      <th></th>\n",
       "      <th>x</th>\n",
       "      <th>y</th>\n",
       "    </tr>\n",
       "  </thead>\n",
       "  <tbody>\n",
       "    <tr>\n",
       "      <th>0</th>\n",
       "      <td>170.8</td>\n",
       "      <td>143.4</td>\n",
       "    </tr>\n",
       "    <tr>\n",
       "      <th>1</th>\n",
       "      <td>202.1</td>\n",
       "      <td>182.8</td>\n",
       "    </tr>\n",
       "    <tr>\n",
       "      <th>2</th>\n",
       "      <td>151.6</td>\n",
       "      <td>129.7</td>\n",
       "    </tr>\n",
       "    <tr>\n",
       "      <th>3</th>\n",
       "      <td>92.4</td>\n",
       "      <td>86.5</td>\n",
       "    </tr>\n",
       "    <tr>\n",
       "      <th>4</th>\n",
       "      <td>114.6</td>\n",
       "      <td>92.9</td>\n",
       "    </tr>\n",
       "  </tbody>\n",
       "</table>\n",
       "</div>"
      ],
      "text/plain": [
       "       x      y\n",
       "0  170.8  143.4\n",
       "1  202.1  182.8\n",
       "2  151.6  129.7\n",
       "3   92.4   86.5\n",
       "4  114.6   92.9"
      ]
     },
     "execution_count": 2,
     "metadata": {},
     "output_type": "execute_result"
    }
   ],
   "source": [
    "# test_data = np.round_(Samples[27] * 100)\n",
    "test_data = np.array([[170.8, 143.4],\n",
    "       [202.1, 182.8],\n",
    "       [151.6, 129.7],\n",
    "       [ 92.4,  86.5],\n",
    "       [114.6,  92.9]])\n",
    "\n",
    "pd.DataFrame(test_data, columns=['x', 'y'])"
   ]
  },
  {
   "cell_type": "code",
   "execution_count": 3,
   "metadata": {},
   "outputs": [
    {
     "data": {
      "image/png": "[encoded data removed]",
      "text/plain": [
       "<Figure size 640x480 with 1 Axes>"
      ]
     },
     "metadata": {},
     "output_type": "display_data"
    }
   ],
   "source": [
    "plt.scatter(test_data[:, 0], test_data[:, 1])\n",
    "\n",
    "for i in range(len(test_data)):\n",
    "    plt.text(test_data[i][0], test_data[i][1] + 0.03, str(i))"
   ]
  },
  {
   "cell_type": "code",
   "execution_count": 4,
   "metadata": {},
   "outputs": [
    {
     "name": "stdout",
     "output_type": "stream",
     "text": [
      "Distance matrix: 0 step\n",
      "           0           1          2           3           4\n",
      "0   0.000000   50.319479  23.586649   96.871926   75.555873\n",
      "1  50.319479    0.000000  73.279329  145.971847  125.452222\n",
      "2  23.586649   73.279329   0.000000   73.286288   52.184672\n",
      "3  96.871926  145.971847  73.286288    0.000000   23.104112\n",
      "4  75.555873  125.452222  52.184672   23.104112    0.000000\n",
      "\n",
      "Clusters:['0' '1' '2' '3' '4']\n",
      "\n",
      "\n",
      "('Clusters:', array(['(4, 3)', '0', '1', '2'], dtype='<U25'))\n",
      "Distance matrix: 1 step\n",
      "            (4, 3)          0           1          2\n",
      "(4, 3)    0.000000  86.213900  135.712034  62.735480\n",
      "0        86.213900   0.000000   50.319479  23.586649\n",
      "1       135.712034  50.319479    0.000000  73.279329\n",
      "2        62.735480  23.586649   73.279329   0.000000\n",
      "\n",
      "\n",
      "\n",
      "('Clusters:', array(['(0, 2)', '(4, 3)', '1'], dtype='<U25'))\n",
      "Distance matrix: 2 step\n",
      "           (0, 2)      (4, 3)           1\n",
      "(0, 2)   0.000000   74.528299   61.799404\n",
      "(4, 3)  74.528299    0.000000  135.712034\n",
      "1       61.799404  135.712034    0.000000\n",
      "\n",
      "\n",
      "\n",
      "('Clusters:', array(['((0, 2), 1)', '(4, 3)'], dtype='<U25'))\n",
      "Distance matrix: 3 step\n",
      "             ((0, 2), 1)     (4, 3)\n",
      "((0, 2), 1)     0.000000  99.078259\n",
      "(4, 3)         99.078259   0.000000\n",
      "\n",
      "\n",
      "\n",
      "('Clusters:', array(['(((0, 2), 1), (4, 3))'], dtype='<U25'))\n",
      "Distance matrix: 4 step\n",
      "                       (((0, 2), 1), (4, 3))\n",
      "(((0, 2), 1), (4, 3))                    0.0\n",
      "\n",
      "\n",
      "\n",
      "[23.104112188093136, 23.586648765774132, 61.79940396456199, 99.07825933985333]\n"
     ]
    }
   ],
   "source": [
    "from MinMaxHierarchy import MinMaxHierarchy\n",
    "\n",
    "clasters, init_dist, ultra_dists = MinMaxHierarchy(test_data, True)\n",
    "print(ultra_dists)"
   ]
  },
  {
   "cell_type": "code",
   "execution_count": 5,
   "metadata": {},
   "outputs": [
    {
     "name": "stdout",
     "output_type": "stream",
     "text": [
      "Distance matrix: 0 step\n",
      "           0           1          2           3           4\n",
      "0   0.000000   50.319479  23.586649   96.871926   75.555873\n",
      "1  50.319479    0.000000  73.279329  145.971847  125.452222\n",
      "2  23.586649   73.279329   0.000000   73.286288   52.184672\n",
      "3  96.871926  145.971847  73.286288    0.000000   23.104112\n",
      "4  75.555873  125.452222  52.184672   23.104112    0.000000\n",
      "\n",
      "Clusters:['0' '1' '2' '3' '4']\n",
      "\n",
      "\n",
      "('Clusters:', array(['(4, 3)', '0', '1', '2'], dtype='<U25'))\n",
      "Distance matrix: 1 step\n",
      "            0          1           2           3\n",
      "0    0.000000  86.213900  135.712034   62.735480\n",
      "1   86.213900   0.000000   50.319479   96.871926\n",
      "2  135.712034  50.319479    0.000000  145.971847\n",
      "3   62.735480  96.871926  145.971847    0.000000\n",
      "\n",
      "\n",
      "\n",
      "('Clusters:', array(['(0, 1)', '(4, 3)', '2'], dtype='<U25'))\n",
      "Distance matrix: 2 step\n",
      "            0           1           2\n",
      "0    0.000000  110.962967  121.421886\n",
      "1  110.962967    0.000000   62.735480\n",
      "2  121.421886   62.735480    0.000000\n",
      "\n",
      "\n",
      "\n",
      "('Clusters:', array(['((4, 3), 2)', '(0, 1)'], dtype='<U25'))\n",
      "Distance matrix: 3 step\n",
      "            0           1\n",
      "0    0.000000  116.192427\n",
      "1  116.192427    0.000000\n",
      "\n",
      "\n",
      "\n",
      "('Clusters:', array(['(((4, 3), 2), (0, 1))'], dtype='<U25'))\n",
      "Distance matrix: 4 step\n",
      "     0\n",
      "0  0.0\n",
      "\n",
      "\n",
      "\n"
     ]
    },
    {
     "data": {
      "text/plain": [
       "((((4, 3), 2), (0, 1)),\n",
       " array([[  0.        ,  50.31947933,  23.58664877,  96.87192576,\n",
       "          75.55587337],\n",
       "        [ 50.31947933,   0.        ,  73.2793286 , 145.9718466 ,\n",
       "         125.45222198],\n",
       "        [ 23.58664877,  73.2793286 ,   0.        ,  73.28628794,\n",
       "          52.18467208],\n",
       "        [ 96.87192576, 145.9718466 ,  73.28628794,   0.        ,\n",
       "          23.10411219],\n",
       "        [ 75.55587337, 125.45222198,  52.18467208,  23.10411219,\n",
       "           0.        ]]),\n",
       " [23.104112188093136,\n",
       "  50.3194793295796,\n",
       "  62.735480009450775,\n",
       "  116.19242655267414])"
      ]
     },
     "execution_count": 5,
     "metadata": {},
     "output_type": "execute_result"
    }
   ],
   "source": [
    "from HierarchyClusteringWithoutLogs import hierarchy\n",
    "from Linkages import single_linked\n",
    "from Linkages import weighted_average_linked\n",
    "\n",
    "hierarchy(test_data, metric='euclidean', method=weighted_average_linked, logs_turn_on=True)"
   ]
  },
  {
   "cell_type": "code",
   "execution_count": null,
   "metadata": {},
   "outputs": [],
   "source": []
  },
  {
   "cell_type": "code",
   "execution_count": null,
   "metadata": {},
   "outputs": [],
   "source": []
  },
  {
   "cell_type": "code",
   "execution_count": null,
   "metadata": {},
   "outputs": [],
   "source": []
  },
  {
   "cell_type": "code",
   "execution_count": null,
   "metadata": {},
   "outputs": [],
   "source": []
  }
 ],
 "metadata": {
  "kernelspec": {
   "display_name": "venv",
   "language": "python",
   "name": "python3"
  },
  "language_info": {
   "codemirror_mode": {
    "name": "ipython",
    "version": 3
   },
   "file_extension": ".py",
   "mimetype": "text/x-python",
   "name": "python",
   "nbconvert_exporter": "python",
   "pygments_lexer": "ipython3",
   "version": "3.10.2"
  },
  "orig_nbformat": 4,
  "vscode": {
   "interpreter": {
    "hash": "c6ffd68500972d28465f021baa2ff4a7fbf6f841c23c59c0980ff9e31e376a9e"
   }
  }
 },
 "nbformat": 4,
 "nbformat_minor": 2
}

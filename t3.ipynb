{
 "cells": [
  {
   "cell_type": "code",
   "execution_count": 20,
   "metadata": {},
   "outputs": [],
   "source": [
    "import numpy as np\n",
    "import pandas as pd\n",
    "from sklearn.metrics import pairwise_distances\n",
    "import scipy.stats as sts\n",
    "from scipy.spatial.distance import pdist\n",
    "from scipy.spatial.distance import squareform"
   ]
  },
  {
   "cell_type": "code",
   "execution_count": 5,
   "metadata": {},
   "outputs": [],
   "source": [
    "def generation(size):\n",
    "    N = int(size / 3)\n",
    "\n",
    "    norm1 = sts.norm(100, 40)\n",
    "    norm2 = sts.norm(200, 40)\n",
    "    norm3 = sts.norm(300, 40)\n",
    "\n",
    "    x = np.append(norm1.rvs(N).round(1), np.append(norm2.rvs(N).round(1), norm3.rvs(N).round(1), axis=0), axis=0).astype(int)\n",
    "    y = np.append(norm1.rvs(N).round(1), np.append(norm2.rvs(N).round(1), norm3.rvs(N).round(1), axis=0), axis=0).astype(int)\n",
    "\n",
    "    points = list(zip(x, y))\n",
    "    points = np.unique(points, axis=0)\n",
    "\n",
    "    return np.array(points)\n",
    "\n",
    "points = generation(100)"
   ]
  },
  {
   "cell_type": "code",
   "execution_count": 6,
   "metadata": {},
   "outputs": [],
   "source": [
    "indices = np.random.choice(points.shape[0], size=5, replace=False)\n",
    "sample = points[indices]"
   ]
  },
  {
   "cell_type": "code",
   "execution_count": 8,
   "metadata": {},
   "outputs": [
    {
     "data": {
      "text/plain": [
       "array([[296, 298],\n",
       "       [ 98, 140],\n",
       "       [ 81,  74],\n",
       "       [138, 224],\n",
       "       [125, 135]])"
      ]
     },
     "execution_count": 8,
     "metadata": {},
     "output_type": "execute_result"
    }
   ],
   "source": [
    "sample"
   ]
  },
  {
   "cell_type": "code",
   "execution_count": 22,
   "metadata": {},
   "outputs": [
    {
     "data": {
      "text/plain": [
       "array([[  0., 356., 439., 232., 334.],\n",
       "       [356.,   0.,  83., 124.,  32.],\n",
       "       [439.,  83.,   0., 207., 105.],\n",
       "       [232., 124., 207.,   0., 102.],\n",
       "       [334.,  32., 105., 102.,   0.]])"
      ]
     },
     "execution_count": 22,
     "metadata": {},
     "output_type": "execute_result"
    }
   ],
   "source": [
    "pairwise_distances(sample, metric='manhattan')"
   ]
  },
  {
   "cell_type": "code",
   "execution_count": 23,
   "metadata": {},
   "outputs": [
    {
     "data": {
      "text/plain": [
       "array([[  0., 356., 439., 232., 334.],\n",
       "       [356.,   0.,  83., 124.,  32.],\n",
       "       [439.,  83.,   0., 207., 105.],\n",
       "       [232., 124., 207.,   0., 102.],\n",
       "       [334.,  32., 105., 102.,   0.]])"
      ]
     },
     "execution_count": 23,
     "metadata": {},
     "output_type": "execute_result"
    }
   ],
   "source": [
    "squareform(pdist(sample, 'cityblock'))"
   ]
  },
  {
   "cell_type": "code",
   "execution_count": null,
   "metadata": {},
   "outputs": [],
   "source": []
  },
  {
   "cell_type": "code",
   "execution_count": 24,
   "metadata": {},
   "outputs": [],
   "source": [
    "points = np.array([\n",
    "    [ 57, 111],\n",
    "    [303, 310],\n",
    "    [205, 196],\n",
    "    [332, 257],\n",
    "    [180, 172]\n",
    "])"
   ]
  },
  {
   "cell_type": "code",
   "execution_count": 26,
   "metadata": {},
   "outputs": [
    {
     "data": {
      "text/plain": [
       "array([[  0.        , 316.41270518, 170.67220043, 311.35349685,\n",
       "        137.29530218],\n",
       "       [316.41270518,   0.        , 150.33296378,  60.41522987,\n",
       "        184.85940604],\n",
       "       [170.67220043, 150.33296378,   0.        , 140.89002804,\n",
       "         34.6554469 ],\n",
       "       [311.35349685,  60.41522987, 140.89002804,   0.        ,\n",
       "        174.15223226],\n",
       "       [137.29530218, 184.85940604,  34.6554469 , 174.15223226,\n",
       "          0.        ]])"
      ]
     },
     "execution_count": 26,
     "metadata": {},
     "output_type": "execute_result"
    }
   ],
   "source": [
    "dist = squareform(pdist(points, 'euclidean'))\n",
    "dist"
   ]
  },
  {
   "cell_type": "code",
   "execution_count": 29,
   "metadata": {},
   "outputs": [],
   "source": [
    "ultra_list = [34.655446902326915, 60.41523, 153.983751, 228.651367]"
   ]
  },
  {
   "cell_type": "code",
   "execution_count": 34,
   "metadata": {},
   "outputs": [],
   "source": [
    "clusters = (((2, 4), 0), (1, 3))"
   ]
  },
  {
   "cell_type": "code",
   "execution_count": 35,
   "metadata": {},
   "outputs": [],
   "source": [
    "from Hierarchy.ToCulcMethods.UltrametricMatrix import ultramatrix\n",
    "\n",
    "ultra = ultramatrix(clusters, ultra_list)"
   ]
  },
  {
   "cell_type": "code",
   "execution_count": 36,
   "metadata": {},
   "outputs": [
    {
     "data": {
      "text/plain": [
       "array([[  0.       , 228.651367 , 153.983751 , 228.651367 , 153.983751 ],\n",
       "       [228.651367 ,   0.       , 228.651367 ,  34.6554469, 228.651367 ],\n",
       "       [153.983751 , 228.651367 ,   0.       , 228.651367 ,  60.41523  ],\n",
       "       [228.651367 ,  34.6554469, 228.651367 ,   0.       , 228.651367 ],\n",
       "       [153.983751 , 228.651367 ,  60.41523  , 228.651367 ,   0.       ]])"
      ]
     },
     "execution_count": 36,
     "metadata": {},
     "output_type": "execute_result"
    }
   ],
   "source": [
    "ultra"
   ]
  },
  {
   "cell_type": "code",
   "execution_count": 75,
   "metadata": {},
   "outputs": [
    {
     "name": "stderr",
     "output_type": "stream",
     "text": [
      "/var/folders/7g/1dqbz5hx5994z2r91kw1_k2m0000gn/T/ipykernel_36243/3134738922.py:2: RuntimeWarning: invalid value encountered in divide\n",
      "  mtx = (np.abs(dist - ultra) / dist)\n"
     ]
    },
    {
     "data": {
      "text/plain": [
       "0.7433112367667509"
      ]
     },
     "execution_count": 75,
     "metadata": {},
     "output_type": "execute_result"
    }
   ],
   "source": [
    "# np.max(np.abs())\n",
    "mtx = (np.abs(dist - ultra) / dist)\n",
    "mtx[np.isnan(mtx)] = 0\n",
    "np.max(mtx)"
   ]
  },
  {
   "cell_type": "code",
   "execution_count": null,
   "metadata": {},
   "outputs": [],
   "source": []
  },
  {
   "cell_type": "code",
   "execution_count": 59,
   "metadata": {},
   "outputs": [],
   "source": [
    "start_matrix = squareform(pdist(points, 'euclidean'))\n",
    "ultra_dists = ultra_list\n",
    "finish_matrix = ultramatrix(clusters, ultra_dists)\n",
    "\n",
    "max_abs = np.max(np.abs(start_matrix - finish_matrix))"
   ]
  },
  {
   "cell_type": "code",
   "execution_count": 60,
   "metadata": {},
   "outputs": [
    {
     "data": {
      "text/plain": [
       "87.76133896394629"
      ]
     },
     "execution_count": 60,
     "metadata": {},
     "output_type": "execute_result"
    }
   ],
   "source": [
    "max_abs"
   ]
  },
  {
   "cell_type": "code",
   "execution_count": 57,
   "metadata": {},
   "outputs": [],
   "source": [
    "from Hierarchy.PipelineFunctions.MainWorkers import pipe\n",
    "from Hierarchy.MinMaxMethod import MinMaxHierarchy"
   ]
  },
  {
   "cell_type": "code",
   "execution_count": 58,
   "metadata": {},
   "outputs": [
    {
     "data": {
      "text/plain": [
       "(87.76133896394629,\n",
       " 103.94615404686581,\n",
       " [34.655446902326915, 60.41523, 153.983751, 228.651367])"
      ]
     },
     "execution_count": 58,
     "metadata": {},
     "output_type": "execute_result"
    }
   ],
   "source": [
    "pipe(points, MinMaxHierarchy, 'euclidean')"
   ]
  },
  {
   "cell_type": "code",
   "execution_count": null,
   "metadata": {},
   "outputs": [],
   "source": []
  },
  {
   "cell_type": "code",
   "execution_count": 102,
   "metadata": {},
   "outputs": [
    {
     "data": {
      "text/plain": [
       "'1_dim-euclidean-5-1.0k 2023-04-19 11:25:24'"
      ]
     },
     "execution_count": 102,
     "metadata": {},
     "output_type": "execute_result"
    }
   ],
   "source": [
    "import datetime\n",
    "\n",
    "# NewRunExperiment(size, func, sample_size, n_iter, FUNCOFMETHODS, dist_metric, comment)\n",
    "sample_size = 5\n",
    "n_iter = 1000\n",
    "n_iter_format = str(n_iter) if n_iter < 1000 else f\"{n_iter / 1000}k\"\n",
    "dist_metric = 'euclidean'\n",
    "comment = '1_dim'\n",
    "\n",
    "f\"{comment}-{dist_metric}-{sample_size}-{n_iter_format} {str(datetime.datetime.today().replace(microsecond=0))}\""
   ]
  },
  {
   "cell_type": "code",
   "execution_count": null,
   "metadata": {},
   "outputs": [],
   "source": []
  },
  {
   "cell_type": "code",
   "execution_count": null,
   "metadata": {},
   "outputs": [],
   "source": []
  },
  {
   "cell_type": "code",
   "execution_count": null,
   "metadata": {},
   "outputs": [],
   "source": []
  }
 ],
 "metadata": {
  "kernelspec": {
   "display_name": "venv",
   "language": "python",
   "name": "python3"
  },
  "language_info": {
   "codemirror_mode": {
    "name": "ipython",
    "version": 3
   },
   "file_extension": ".py",
   "mimetype": "text/x-python",
   "name": "python",
   "nbconvert_exporter": "python",
   "pygments_lexer": "ipython3",
   "version": "3.10.2 (v3.10.2:a58ebcc701, Jan 13 2022, 14:50:16) [Clang 13.0.0 (clang-1300.0.29.30)]"
  },
  "orig_nbformat": 4,
  "vscode": {
   "interpreter": {
    "hash": "c6ffd68500972d28465f021baa2ff4a7fbf6f841c23c59c0980ff9e31e376a9e"
   }
  }
 },
 "nbformat": 4,
 "nbformat_minor": 2
}

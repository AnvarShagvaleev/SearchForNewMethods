{
 "cells": [
  {
   "cell_type": "code",
   "execution_count": 1,
   "metadata": {},
   "outputs": [
    {
     "name": "stderr",
     "output_type": "stream",
     "text": [
      "/var/folders/7g/1dqbz5hx5994z2r91kw1_k2m0000gn/T/ipykernel_44696/3321659885.py:7: DeprecationWarning: Importing display from IPython.core.display is deprecated since IPython 7.14, please import from IPython display\n",
      "  from IPython.core.display import display, HTML\n"
     ]
    }
   ],
   "source": [
    "from Hierarchy.PipelineFunctions.MainWorkers import FUNCOFMETHODS, times_when_method_better, NewRunExperiment, ReadLogs\n",
    "import matplotlib.pyplot as plt\n",
    "import seaborn as sns\n",
    "import scipy.stats as sts\n",
    "import pandas as pd\n",
    "import numpy as np\n",
    "from IPython.core.display import display, HTML"
   ]
  },
  {
   "cell_type": "code",
   "execution_count": 3,
   "metadata": {},
   "outputs": [],
   "source": [
    "def generation(size, dim):\n",
    "    norm_dist = sts.norm(0, 100)\n",
    "    x = norm_dist.rvs(size).astype(int)\n",
    "\n",
    "    if dim == 1:\n",
    "        y = np.zeros(len(x))\n",
    "    elif dim == 2:\n",
    "        y = norm_dist.rvs(size).astype(int)\n",
    "\n",
    "    points = list(zip(x, y))\n",
    "    points = np.unique(points, axis=0)\n",
    "    \n",
    "    return np.array(points)"
   ]
  },
  {
   "cell_type": "code",
   "execution_count": 4,
   "metadata": {},
   "outputs": [
    {
     "name": "stderr",
     "output_type": "stream",
     "text": [
      "  0%|          | 0/1000 [00:00<?, ?it/s]\n"
     ]
    },
    {
     "ename": "TypeError",
     "evalue": "'module' object is not callable",
     "output_type": "error",
     "traceback": [
      "\u001b[0;31m---------------------------------------------------------------------------\u001b[0m",
      "\u001b[0;31mTypeError\u001b[0m                                 Traceback (most recent call last)",
      "Cell \u001b[0;32mIn[4], line 8\u001b[0m\n\u001b[1;32m      5\u001b[0m dist_metric \u001b[39m=\u001b[39m \u001b[39m'\u001b[39m\u001b[39meuclidean\u001b[39m\u001b[39m'\u001b[39m\n\u001b[1;32m      6\u001b[0m dim \u001b[39m=\u001b[39m \u001b[39m2\u001b[39m\n\u001b[0;32m----> 8\u001b[0m now \u001b[39m=\u001b[39m NewRunExperiment(\u001b[39m6000\u001b[39;49m, generation, \u001b[39m5\u001b[39;49m, \u001b[39m1000\u001b[39;49m, FUNCOFMETHODS, dist_metric, dim)\n\u001b[1;32m      9\u001b[0m now\n",
      "File \u001b[0;32m~/Education/DataScience/University/Graduate/MasterWork/BestMetric/Hierarchy/PipelineFunctions/MainWorkers.py:122\u001b[0m, in \u001b[0;36mNewRunExperiment\u001b[0;34m(size, func, sample_size, n_iter, FUNCOFMETHODS, dist_metric, dim)\u001b[0m\n\u001b[1;32m    120\u001b[0m \u001b[39mfor\u001b[39;00m method_name, method_func \u001b[39min\u001b[39;00m FUNCOFMETHODS\u001b[39m.\u001b[39mitems():\n\u001b[1;32m    121\u001b[0m     tp1 \u001b[39m=\u001b[39m time\u001b[39m.\u001b[39mtime()\n\u001b[0;32m--> 122\u001b[0m     metrics_both_and_ultradists \u001b[39m=\u001b[39m pipe(sample, method_func, dist_metric)\n\u001b[1;32m    123\u001b[0m     tp2 \u001b[39m=\u001b[39m time\u001b[39m.\u001b[39mtime()\n\u001b[1;32m    125\u001b[0m     pickle\u001b[39m.\u001b[39mdump(sample, F_Samples) \u001b[39m# - тут переместить\u001b[39;00m\n",
      "File \u001b[0;32m~/Education/DataScience/University/Graduate/MasterWork/BestMetric/Hierarchy/PipelineFunctions/MainWorkers.py:35\u001b[0m, in \u001b[0;36mpipe\u001b[0;34m(points, method, dist_metric)\u001b[0m\n\u001b[1;32m     33\u001b[0m     logs \u001b[39m=\u001b[39m MedianHierarchy(points, metric\u001b[39m=\u001b[39mdist_metric)\n\u001b[1;32m     34\u001b[0m \u001b[39melse\u001b[39;00m:\n\u001b[0;32m---> 35\u001b[0m     logs \u001b[39m=\u001b[39m hierarchy(points, metric\u001b[39m=\u001b[39;49mdist_metric, method\u001b[39m=\u001b[39;49mmethod)\n\u001b[1;32m     37\u001b[0m start_matrix \u001b[39m=\u001b[39m logs[\u001b[39m1\u001b[39m]\n\u001b[1;32m     38\u001b[0m ultra_dists \u001b[39m=\u001b[39m logs[\u001b[39m2\u001b[39m]\n",
      "\u001b[0;31mTypeError\u001b[0m: 'module' object is not callable"
     ]
    }
   ],
   "source": [
    "# euclidean - евклидово\n",
    "# cityblock - манхэттена\n",
    "# chebyshev - чевышева\n",
    "\n",
    "dist_metric = 'euclidean'\n",
    "dim = 2\n",
    "\n",
    "now = NewRunExperiment(6000, generation, 5, 1000, FUNCOFMETHODS, dist_metric, dim)\n",
    "now"
   ]
  },
  {
   "cell_type": "code",
   "execution_count": null,
   "metadata": {},
   "outputs": [],
   "source": [
    "# now = '100-1k 2023-04-11 13:41:00'"
   ]
  },
  {
   "cell_type": "code",
   "execution_count": null,
   "metadata": {},
   "outputs": [],
   "source": [
    "TimeLogsList, Ultradists, SamplesList, MaxList, SumList, NameOfMethodList, NormDiff = ReadLogs(now)"
   ]
  },
  {
   "cell_type": "code",
   "execution_count": null,
   "metadata": {},
   "outputs": [],
   "source": [
    "# ПРОВЕРКА НА МОНОТОННОСТЬ\n",
    "\n",
    "flag = 0\n",
    "for num, ultra in enumerate(Ultradists):\n",
    "    if sorted(ultra) != ultra:\n",
    "        print(f\"Пример номер {NameOfMethodList[num]}: {num}\")\n",
    "        print(ultra)\n",
    "        print()\n",
    "        flag = 1\n",
    "if flag != 1:\n",
    "    display(HTML('<h2>The methods is monotonous</h2>'))"
   ]
  },
  {
   "cell_type": "code",
   "execution_count": null,
   "metadata": {},
   "outputs": [],
   "source": [
    "MaxMatrix = pd.DataFrame({'MetricsByMethodsForMax': MaxList, 'NameOfMethod': NameOfMethodList})\n",
    "\n",
    "grouper = MaxMatrix.groupby('NameOfMethod')\n",
    "ResultsForMax = pd.concat([pd.Series(v['MetricsByMethodsForMax'].tolist(), name=k) for k, v in grouper], axis=1)\n",
    "\n",
    "ResultsForMax.head()"
   ]
  },
  {
   "cell_type": "code",
   "execution_count": null,
   "metadata": {},
   "outputs": [],
   "source": [
    "SumMatrix = pd.DataFrame({'MetricsByMethodsForSum': SumList, 'NameOfMethod': NameOfMethodList})\n",
    "\n",
    "grouper = SumMatrix.groupby('NameOfMethod')\n",
    "ResultsForSum = pd.concat([pd.Series(v['MetricsByMethodsForSum'].tolist(), name=k) for k, v in grouper], axis=1)\n",
    "\n",
    "ResultsForSum.head()"
   ]
  },
  {
   "cell_type": "code",
   "execution_count": null,
   "metadata": {},
   "outputs": [],
   "source": [
    "sns.heatmap(times_when_method_better(ResultsForMax), annot=True)"
   ]
  },
  {
   "cell_type": "code",
   "execution_count": null,
   "metadata": {},
   "outputs": [],
   "source": [
    "for col in ResultsForMax.columns:\n",
    "    print(col)\n",
    "    print(list(ResultsForMax.query(f\"min_max_linked > {col}\").index))\n",
    "    print()"
   ]
  },
  {
   "cell_type": "code",
   "execution_count": null,
   "metadata": {},
   "outputs": [],
   "source": [
    "sns.heatmap(times_when_method_better(ResultsForSum), annot=True)"
   ]
  },
  {
   "cell_type": "markdown",
   "metadata": {},
   "source": [
    "## Анализ"
   ]
  },
  {
   "cell_type": "code",
   "execution_count": null,
   "metadata": {},
   "outputs": [],
   "source": [
    "test_data = SamplesList[2]\n",
    "pd.DataFrame(test_data, columns=['x', 'y'])"
   ]
  },
  {
   "cell_type": "code",
   "execution_count": null,
   "metadata": {},
   "outputs": [],
   "source": [
    "plt.scatter(test_data[:, 0], test_data[:, 1])\n",
    "\n",
    "for i in range(len(test_data)):\n",
    "    plt.text(test_data[i][0], test_data[i][1] + 0.03, str(i))"
   ]
  },
  {
   "cell_type": "code",
   "execution_count": null,
   "metadata": {},
   "outputs": [],
   "source": [
    "from Hierarchy.MinMaxMethod import MinMaxHierarchy\n",
    "\n",
    "MinMaxHierarchy(test_data, logs_turn_on=True, metric=dist_mertic)"
   ]
  },
  {
   "cell_type": "code",
   "execution_count": null,
   "metadata": {},
   "outputs": [],
   "source": [
    "from Hierarchy.StandartMethods import hierarchy\n",
    "from Hierarchy.ToCulcMethods.Linkages import group_average_linked\n",
    "from Hierarchy.ToCulcMethods.Linkages import single_linked\n",
    "\n",
    "hierarchy(test_data, metric=dist_mertic, method=single_linked, logs_turn_on=True)"
   ]
  }
 ],
 "metadata": {
  "kernelspec": {
   "display_name": "venv",
   "language": "python",
   "name": "python3"
  },
  "language_info": {
   "codemirror_mode": {
    "name": "ipython",
    "version": 3
   },
   "file_extension": ".py",
   "mimetype": "text/x-python",
   "name": "python",
   "nbconvert_exporter": "python",
   "pygments_lexer": "ipython3",
   "version": "3.10.2"
  },
  "orig_nbformat": 4,
  "vscode": {
   "interpreter": {
    "hash": "c6ffd68500972d28465f021baa2ff4a7fbf6f841c23c59c0980ff9e31e376a9e"
   }
  }
 },
 "nbformat": 4,
 "nbformat_minor": 2
}

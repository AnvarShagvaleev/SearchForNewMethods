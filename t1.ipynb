{
 "cells": [
  {
   "cell_type": "code",
   "execution_count": 1,
   "metadata": {},
   "outputs": [
    {
     "ename": "ModuleNotFoundError",
     "evalue": "No module named 'Hierarchy'",
     "output_type": "error",
     "traceback": [
      "\u001b[0;31m---------------------------------------------------------------------------\u001b[0m",
      "\u001b[0;31mModuleNotFoundError\u001b[0m                       Traceback (most recent call last)",
      "Cell \u001b[0;32mIn[1], line 1\u001b[0m\n\u001b[0;32m----> 1\u001b[0m \u001b[39mfrom\u001b[39;00m \u001b[39mHierarchy\u001b[39;00m\u001b[39m.\u001b[39;00m\u001b[39mPipelineFunctions\u001b[39;00m\u001b[39m.\u001b[39;00m\u001b[39mMainWorkers\u001b[39;00m \u001b[39mimport\u001b[39;00m FUNCOFMETHODS, times_when_method_better, NewRunExperiment, ReadLogs\n\u001b[1;32m      2\u001b[0m \u001b[39mimport\u001b[39;00m \u001b[39mmatplotlib\u001b[39;00m\u001b[39m.\u001b[39;00m\u001b[39mpyplot\u001b[39;00m \u001b[39mas\u001b[39;00m \u001b[39mplt\u001b[39;00m\n\u001b[1;32m      3\u001b[0m \u001b[39mimport\u001b[39;00m \u001b[39mseaborn\u001b[39;00m \u001b[39mas\u001b[39;00m \u001b[39msns\u001b[39;00m\n",
      "\u001b[0;31mModuleNotFoundError\u001b[0m: No module named 'Hierarchy'"
     ]
    }
   ],
   "source": [
    "from Hierarchy.PipelineFunctions.MainWorkers import FUNCOFMETHODS, times_when_method_better, NewRunExperiment, ReadLogs\n",
    "import matplotlib.pyplot as plt\n",
    "import seaborn as sns\n",
    "import scipy.stats as sts\n",
    "import pandas as pd\n",
    "import numpy as np"
   ]
  },
  {
   "cell_type": "code",
   "execution_count": null,
   "metadata": {},
   "outputs": [],
   "source": [
    "now = NewRunExperiment(600000, 5, 100, FUNCOFMETHODS)\n",
    "now"
   ]
  },
  {
   "cell_type": "code",
   "execution_count": null,
   "metadata": {},
   "outputs": [],
   "source": [
    "TimeLogsList, Ultradists, SamplesList, MaxList, SumList, NameOfMethodList = ReadLogs(now)"
   ]
  },
  {
   "cell_type": "code",
   "execution_count": null,
   "metadata": {},
   "outputs": [],
   "source": [
    "TimeMatrix = pd.DataFrame({'Method': NameOfMethodList, 'Time': TimeLogsList})\n",
    "\n",
    "grouper = TimeMatrix.groupby('Method')\n",
    "ResultsForTime = pd.concat([pd.Series(v['Time'].tolist(), name=k) for k, v in grouper], axis=1)\n",
    "\n",
    "ResultsForTime.mean()"
   ]
  },
  {
   "cell_type": "code",
   "execution_count": null,
   "metadata": {},
   "outputs": [],
   "source": [
    "ResultsForTime.sum()"
   ]
  },
  {
   "cell_type": "code",
   "execution_count": null,
   "metadata": {},
   "outputs": [],
   "source": [
    "# ПРОВЕРКА НА МОНОТОННОСТЬ\n",
    "\n",
    "flag = 0\n",
    "for num, ultra in enumerate(Ultradists):\n",
    "    if sorted(ultra) != ultra:\n",
    "        print(f\"Пример номер {NameOfMethodList[num]}: {num}\")\n",
    "        print(ultra)\n",
    "        print()\n",
    "        flag = 1\n",
    "if flag != 1:\n",
    "    print(\"the methods is monotonous\")"
   ]
  },
  {
   "cell_type": "code",
   "execution_count": null,
   "metadata": {},
   "outputs": [],
   "source": [
    "MaxMatrix = pd.DataFrame({'MetricsByMethodsForMax': MaxList, 'NameOfMethod': NameOfMethodList})\n",
    "\n",
    "grouper = MaxMatrix.groupby('NameOfMethod')\n",
    "ResultsForMax = pd.concat([pd.Series(v['MetricsByMethodsForMax'].tolist(), name=k) for k, v in grouper], axis=1)\n",
    "\n",
    "ResultsForMax.head()"
   ]
  },
  {
   "cell_type": "code",
   "execution_count": null,
   "metadata": {},
   "outputs": [],
   "source": [
    "SumMatrix = pd.DataFrame({'MetricsByMethodsForSum': SumList, 'NameOfMethod': NameOfMethodList})\n",
    "\n",
    "grouper = SumMatrix.groupby('NameOfMethod')\n",
    "ResultsForSum = pd.concat([pd.Series(v['MetricsByMethodsForSum'].tolist(), name=k) for k, v in grouper], axis=1)\n",
    "\n",
    "ResultsForSum.head()"
   ]
  },
  {
   "cell_type": "code",
   "execution_count": null,
   "metadata": {},
   "outputs": [],
   "source": [
    "sns.heatmap(times_when_method_better(ResultsForMax), annot=True)"
   ]
  },
  {
   "cell_type": "code",
   "execution_count": null,
   "metadata": {},
   "outputs": [],
   "source": [
    "for col in ResultsForMax.columns:\n",
    "    print(col)\n",
    "    print(list(ResultsForMax.query(f\"min_max_linked > {col}\").index))\n",
    "    print()"
   ]
  },
  {
   "cell_type": "code",
   "execution_count": null,
   "metadata": {},
   "outputs": [],
   "source": [
    "sns.heatmap(times_when_method_better(ResultsForSum), annot=True)"
   ]
  },
  {
   "cell_type": "code",
   "execution_count": null,
   "metadata": {},
   "outputs": [],
   "source": [
    "test_data = SamplesList[154]\n",
    "pd.DataFrame(test_data, columns=['x', 'y'])"
   ]
  },
  {
   "cell_type": "code",
   "execution_count": null,
   "metadata": {},
   "outputs": [],
   "source": [
    "plt.scatter(test_data[:, 0], test_data[:, 1])\n",
    "\n",
    "for i in range(len(test_data)):\n",
    "    plt.text(test_data[i][0], test_data[i][1] + 0.03, str(i))"
   ]
  },
  {
   "cell_type": "code",
   "execution_count": null,
   "metadata": {},
   "outputs": [],
   "source": [
    "from MinMaxHierarchy import MinMaxHierarchy\n",
    "\n",
    "MinMaxHierarchy(test_data, logs_turn_on=True, metric='euclidean')"
   ]
  },
  {
   "cell_type": "code",
   "execution_count": null,
   "metadata": {},
   "outputs": [],
   "source": []
  },
  {
   "cell_type": "code",
   "execution_count": null,
   "metadata": {},
   "outputs": [],
   "source": [
    "from HierarchyClusteringWithoutLogs import hierarchy\n",
    "from Linkages import group_average_linked\n",
    "\n",
    "hierarchy(test_data, metric='euclidean', method=group_average_linked, logs_turn_on=True)"
   ]
  }
 ],
 "metadata": {
  "kernelspec": {
   "display_name": "venv",
   "language": "python",
   "name": "python3"
  },
  "language_info": {
   "codemirror_mode": {
    "name": "ipython",
    "version": 3
   },
   "file_extension": ".py",
   "mimetype": "text/x-python",
   "name": "python",
   "nbconvert_exporter": "python",
   "pygments_lexer": "ipython3",
   "version": "3.10.2"
  },
  "orig_nbformat": 4,
  "vscode": {
   "interpreter": {
    "hash": "c6ffd68500972d28465f021baa2ff4a7fbf6f841c23c59c0980ff9e31e376a9e"
   }
  }
 },
 "nbformat": 4,
 "nbformat_minor": 2
}

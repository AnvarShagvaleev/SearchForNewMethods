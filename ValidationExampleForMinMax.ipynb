{
 "cells": [
  {
   "cell_type": "code",
   "execution_count": 1,
   "metadata": {},
   "outputs": [],
   "source": [
    "import numpy as np\n",
    "import pandas as pd\n",
    "import matplotlib.pyplot as plt\n",
    "from sklearn.metrics import pairwise_distances\n",
    "from MinMaxHierarchy import MinMaxHierarchy\n",
    "from UltrametricMatrix import ultramatrix"
   ]
  },
  {
   "cell_type": "code",
   "execution_count": 2,
   "metadata": {},
   "outputs": [],
   "source": [
    "new_data = np.array([\n",
    "    [0, 0],\n",
    "    [1, 1],\n",
    "    [3, 0],\n",
    "    [2, 5]\n",
    "])"
   ]
  },
  {
   "cell_type": "code",
   "execution_count": 3,
   "metadata": {},
   "outputs": [
    {
     "data": {
      "image/png": "[encoded data removed]",
      "text/plain": [
       "<Figure size 640x480 with 1 Axes>"
      ]
     },
     "metadata": {},
     "output_type": "display_data"
    }
   ],
   "source": [
    "plt.scatter(new_data[:,0], new_data[:,1])\n",
    "for i, xy in enumerate(new_data):\n",
    "    plt.text(xy[0]+0.05, xy[1], str(i), fontsize=11)\n",
    "plt.show()"
   ]
  },
  {
   "cell_type": "code",
   "execution_count": 4,
   "metadata": {},
   "outputs": [
    {
     "name": "stdout",
     "output_type": "stream",
     "text": [
      "VERSION 18\n",
      "Distance matrix: 0 step\n",
      "          0         1         2         3\n",
      "0  0.000000  1.414214  3.000000  5.385165\n",
      "1  1.414214  0.000000  2.236068  4.123106\n",
      "2  3.000000  2.236068  0.000000  5.099020\n",
      "3  5.385165  4.123106  5.099020  0.000000\n",
      "\n",
      "Clusters:['0' '1' '2' '3']\n",
      "\n",
      "\n",
      "(0, 1)\n",
      "Clusters: ['(0, 1)' '2' '3']\n",
      "Distance matrix: 1 step\n",
      "          (0, 1)         2         3\n",
      "(0, 1)  0.000000  2.618034  4.754135\n",
      "2       2.618034  0.000000  5.099020\n",
      "3       4.754135  5.099020  0.000000\n",
      "\n",
      "\n",
      "\n",
      "((0, 1), 2)\n",
      "Clusters: ['((0, 1), 2)' '3']\n",
      "Distance matrix: 2 step\n",
      "             ((0, 1), 2)         3\n",
      "((0, 1), 2)     0.000000  4.754135\n",
      "3               4.754135  0.000000\n",
      "\n",
      "\n",
      "\n",
      "(((0, 1), 2), 3)\n",
      "Clusters: ['(((0, 1), 2), 3)']\n",
      "Distance matrix: 3 step\n",
      "                  (((0, 1), 2), 3)\n",
      "(((0, 1), 2), 3)               0.0\n",
      "\n",
      "\n",
      "\n"
     ]
    }
   ],
   "source": [
    "logs = MinMaxHierarchy(new_data, metric='euclidean')"
   ]
  },
  {
   "cell_type": "code",
   "execution_count": 5,
   "metadata": {},
   "outputs": [
    {
     "data": {
      "text/html": [
       "<div>\n",
       "<style scoped>\n",
       "    .dataframe tbody tr th:only-of-type {\n",
       "        vertical-align: middle;\n",
       "    }\n",
       "\n",
       "    .dataframe tbody tr th {\n",
       "        vertical-align: top;\n",
       "    }\n",
       "\n",
       "    .dataframe thead th {\n",
       "        text-align: right;\n",
       "    }\n",
       "</style>\n",
       "<table border=\"1\" class=\"dataframe\">\n",
       "  <thead>\n",
       "    <tr style=\"text-align: right;\">\n",
       "      <th></th>\n",
       "      <th>0</th>\n",
       "      <th>1</th>\n",
       "      <th>2</th>\n",
       "      <th>3</th>\n",
       "    </tr>\n",
       "  </thead>\n",
       "  <tbody>\n",
       "    <tr>\n",
       "      <th>0</th>\n",
       "      <td>0.000000</td>\n",
       "      <td>1.414214</td>\n",
       "      <td>2.618034</td>\n",
       "      <td>4.754135</td>\n",
       "    </tr>\n",
       "    <tr>\n",
       "      <th>1</th>\n",
       "      <td>1.414214</td>\n",
       "      <td>0.000000</td>\n",
       "      <td>2.618034</td>\n",
       "      <td>4.754135</td>\n",
       "    </tr>\n",
       "    <tr>\n",
       "      <th>2</th>\n",
       "      <td>2.618034</td>\n",
       "      <td>2.618034</td>\n",
       "      <td>0.000000</td>\n",
       "      <td>4.754135</td>\n",
       "    </tr>\n",
       "    <tr>\n",
       "      <th>3</th>\n",
       "      <td>4.754135</td>\n",
       "      <td>4.754135</td>\n",
       "      <td>4.754135</td>\n",
       "      <td>0.000000</td>\n",
       "    </tr>\n",
       "  </tbody>\n",
       "</table>\n",
       "</div>"
      ],
      "text/plain": [
       "          0         1         2         3\n",
       "0  0.000000  1.414214  2.618034  4.754135\n",
       "1  1.414214  0.000000  2.618034  4.754135\n",
       "2  2.618034  2.618034  0.000000  4.754135\n",
       "3  4.754135  4.754135  4.754135  0.000000"
      ]
     },
     "execution_count": 5,
     "metadata": {},
     "output_type": "execute_result"
    }
   ],
   "source": [
    "finish_matrix = ultramatrix(logs[0], logs[2])\n",
    "pd.DataFrame(finish_matrix)"
   ]
  },
  {
   "cell_type": "code",
   "execution_count": 6,
   "metadata": {},
   "outputs": [
    {
     "name": "stdout",
     "output_type": "stream",
     "text": [
      "4.754135216376082\n"
     ]
    }
   ],
   "source": [
    "print(np.max(finish_matrix))"
   ]
  },
  {
   "cell_type": "code",
   "execution_count": null,
   "metadata": {},
   "outputs": [],
   "source": []
  },
  {
   "cell_type": "code",
   "execution_count": null,
   "metadata": {},
   "outputs": [],
   "source": []
  },
  {
   "cell_type": "code",
   "execution_count": null,
   "metadata": {},
   "outputs": [],
   "source": []
  }
 ],
 "metadata": {
  "kernelspec": {
   "display_name": "venv",
   "language": "python",
   "name": "python3"
  },
  "language_info": {
   "codemirror_mode": {
    "name": "ipython",
    "version": 3
   },
   "file_extension": ".py",
   "mimetype": "text/x-python",
   "name": "python",
   "nbconvert_exporter": "python",
   "pygments_lexer": "ipython3",
   "version": "3.10.2"
  },
  "orig_nbformat": 4,
  "vscode": {
   "interpreter": {
    "hash": "c6ffd68500972d28465f021baa2ff4a7fbf6f841c23c59c0980ff9e31e376a9e"
   }
  }
 },
 "nbformat": 4,
 "nbformat_minor": 2
}

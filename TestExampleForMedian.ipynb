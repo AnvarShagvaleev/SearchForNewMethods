{
 "cells": [
  {
   "cell_type": "code",
   "execution_count": 1,
   "metadata": {},
   "outputs": [],
   "source": [
    "import numpy as np\n",
    "import pandas as pd\n",
    "import matplotlib.pyplot as plt\n",
    "from MedianHierarchy import MedianHierarchy"
   ]
  },
  {
   "cell_type": "code",
   "execution_count": 2,
   "metadata": {},
   "outputs": [],
   "source": [
    "new_data = np.array([\n",
    "    [1.47464121, 1.61404691],\n",
    "    [1.02330034, 0.90627011],\n",
    "    [0.87089836, 1.29429528],\n",
    "    [1.88869619, 2.06086684]\n",
    "])"
   ]
  },
  {
   "cell_type": "code",
   "execution_count": 3,
   "metadata": {},
   "outputs": [
    {
     "data": {
      "image/png": "[encoded data removed]",
      "text/plain": [
       "<Figure size 640x480 with 1 Axes>"
      ]
     },
     "metadata": {},
     "output_type": "display_data"
    }
   ],
   "source": [
    "plt.scatter(new_data[:,0], new_data[:,1])\n",
    "for i, xy in enumerate(new_data):\n",
    "    plt.text(xy[0]+0.05, xy[1], str(i), fontsize=11)\n",
    "plt.show()"
   ]
  },
  {
   "cell_type": "code",
   "execution_count": 4,
   "metadata": {},
   "outputs": [
    {
     "name": "stdout",
     "output_type": "stream",
     "text": [
      "Distance matrix: 0 step\n",
      "          0         1         2         3\n",
      "0  0.000000  0.839438  0.683189  0.609171\n",
      "1  0.839438  0.000000  0.416881  1.442915\n",
      "2  0.683189  0.416881  0.000000  1.274184\n",
      "3  0.609171  1.442915  1.274184  0.000000\n",
      "\n",
      "Clusters:['0' '1' '2' '3']\n",
      "\n",
      "\n",
      "(1, 2)\n",
      "Clusters: ['(1, 2)' '0' '3']\n",
      "Distance matrix: 1 step\n",
      "          (1, 2)         0         3\n",
      "(1, 2)  0.000000  0.761313  1.358549\n",
      "0       0.761313  0.000000  0.609171\n",
      "3       1.358549  0.609171  0.000000\n",
      "\n",
      "\n",
      "\n",
      "(0, 3)\n",
      "Clusters: ['(0, 3)' '(1, 2)']\n",
      "Distance matrix: 2 step\n",
      "          (0, 3)    (1, 2)\n",
      "(0, 3)  0.000000  1.056811\n",
      "(1, 2)  1.056811  0.000000\n",
      "\n",
      "\n",
      "\n",
      "((0, 3), (1, 2))\n",
      "Clusters: ['((0, 3), (1, 2))']\n",
      "Distance matrix: 3 step\n",
      "                  ((0, 3), (1, 2))\n",
      "((0, 3), (1, 2))               0.0\n",
      "\n",
      "\n",
      "\n"
     ]
    }
   ],
   "source": [
    "logs = MedianHierarchy(new_data, metric='euclidean')"
   ]
  },
  {
   "cell_type": "code",
   "execution_count": null,
   "metadata": {},
   "outputs": [],
   "source": []
  },
  {
   "cell_type": "code",
   "execution_count": null,
   "metadata": {},
   "outputs": [],
   "source": []
  },
  {
   "cell_type": "code",
   "execution_count": null,
   "metadata": {},
   "outputs": [],
   "source": []
  }
 ],
 "metadata": {
  "kernelspec": {
   "display_name": "venv",
   "language": "python",
   "name": "python3"
  },
  "language_info": {
   "codemirror_mode": {
    "name": "ipython",
    "version": 3
   },
   "file_extension": ".py",
   "mimetype": "text/x-python",
   "name": "python",
   "nbconvert_exporter": "python",
   "pygments_lexer": "ipython3",
   "version": "3.10.2"
  },
  "orig_nbformat": 4,
  "vscode": {
   "interpreter": {
    "hash": "c6ffd68500972d28465f021baa2ff4a7fbf6f841c23c59c0980ff9e31e376a9e"
   }
  }
 },
 "nbformat": 4,
 "nbformat_minor": 2
}

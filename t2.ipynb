{
 "cells": [
  {
   "cell_type": "code",
   "execution_count": 116,
   "metadata": {},
   "outputs": [],
   "source": [
    "from HierarchyClusteringWithoutLogs import hierarchy\n",
    "from Linkages import single_linked\n",
    "from Linkages import complete_linked\n",
    "from Linkages import min_max_linked\n",
    "from Linkages import group_average_linked\n",
    "from Linkages import weighted_average_linked\n",
    "from UltrametricMatrix import ultramatrix\n",
    "import scipy.stats as sts\n",
    "import pandas as pd\n",
    "import numpy as np\n",
    "import matplotlib.pyplot as plt"
   ]
  },
  {
   "cell_type": "code",
   "execution_count": 117,
   "metadata": {},
   "outputs": [],
   "source": [
    "def pipe(points, method):\n",
    "    hierarchy_clusters = hierarchy(points, metric='euclidean', method=method)\n",
    "\n",
    "    start_matrix = hierarchy_clusters[1]\n",
    "    finish_matrix = ultramatrix(hierarchy_clusters[0], hierarchy_clusters[2])\n",
    "\n",
    "    n_points = len(start_matrix) \n",
    "    N_edge = n_points * (n_points - 1) / 2\n",
    "\n",
    "    SomeMetric = np.max(np.abs(finish_matrix - start_matrix)) / N_edge\n",
    "    return SomeMetric"
   ]
  },
  {
   "cell_type": "code",
   "execution_count": 118,
   "metadata": {},
   "outputs": [],
   "source": [
    "def get_gen_sample(size):\n",
    "    N = int(size / 3)\n",
    "\n",
    "    norm1 = sts.norm(1, 0.2)\n",
    "    norm2 = sts.norm(1.5, 0.1)\n",
    "    norm3 = sts.norm(2, 0.2)\n",
    "\n",
    "    x = np.append(norm1.rvs(N), np.append(norm2.rvs(N), norm3.rvs(N), axis=0), axis=0)\n",
    "    y = np.append(norm1.rvs(N), np.append(norm2.rvs(N), norm3.rvs(N), axis=0), axis=0)\n",
    "\n",
    "    points = list(zip(x, y))\n",
    "\n",
    "    return np.array(points)"
   ]
  },
  {
   "cell_type": "code",
   "execution_count": 119,
   "metadata": {},
   "outputs": [],
   "source": [
    "MetricsFullExp = {\n",
    "    'single_linked': [],\n",
    "    'complete_linked': [],\n",
    "    'group_average_linked': [],\n",
    "    'weighted_average_linked': [],\n",
    "    'min_max_linked': []\n",
    "}\n",
    "\n",
    "size = 100\n",
    "sample_size = 4\n",
    "n_iter = 10\n",
    "points = get_gen_sample(size)\n",
    "ssamples = []\n",
    "\n",
    "for _ in range(n_iter):\n",
    "    indices = np.random.choice(points.shape[0], size=sample_size, replace=False)\n",
    "    sample = points[indices]\n",
    "    ssamples.append(sample)\n",
    "\n",
    "    MetricsFullExp['single_linked'].append(pipe(sample, single_linked))\n",
    "    MetricsFullExp['complete_linked'].append(pipe(sample, complete_linked))\n",
    "    MetricsFullExp['group_average_linked'].append(pipe(sample, group_average_linked))\n",
    "    MetricsFullExp['weighted_average_linked'].append(pipe(sample, weighted_average_linked))\n",
    "    MetricsFullExp['min_max_linked'].append(pipe(sample, min_max_linked))\n",
    "\n",
    "\n",
    "Metrics = {}\n",
    "for key in MetricsFullExp:\n",
    "    left = np.quantile(MetricsFullExp[key], 0.025)\n",
    "    right = np.quantile(MetricsFullExp[key], 0.975)\n",
    "    mean_val = np.mean(MetricsFullExp[key])\n",
    "    Metrics[key] = [round(left, 6), round(mean_val, 6), round(right, 6)]\n",
    "\n",
    "\n",
    "res = pd.DataFrame(Metrics)\n",
    "res.index = ['Left', 'Mean', 'Right']\n",
    "res = res.T"
   ]
  },
  {
   "cell_type": "code",
   "execution_count": 120,
   "metadata": {},
   "outputs": [
    {
     "data": {
      "text/html": [
       "<div>\n",
       "<style scoped>\n",
       "    .dataframe tbody tr th:only-of-type {\n",
       "        vertical-align: middle;\n",
       "    }\n",
       "\n",
       "    .dataframe tbody tr th {\n",
       "        vertical-align: top;\n",
       "    }\n",
       "\n",
       "    .dataframe thead th {\n",
       "        text-align: right;\n",
       "    }\n",
       "</style>\n",
       "<table border=\"1\" class=\"dataframe\">\n",
       "  <thead>\n",
       "    <tr style=\"text-align: right;\">\n",
       "      <th></th>\n",
       "      <th>Left</th>\n",
       "      <th>Mean</th>\n",
       "      <th>Right</th>\n",
       "    </tr>\n",
       "  </thead>\n",
       "  <tbody>\n",
       "    <tr>\n",
       "      <th>single_linked</th>\n",
       "      <td>0.009540</td>\n",
       "      <td>0.050752</td>\n",
       "      <td>0.110478</td>\n",
       "    </tr>\n",
       "    <tr>\n",
       "      <th>complete_linked</th>\n",
       "      <td>0.009540</td>\n",
       "      <td>0.051616</td>\n",
       "      <td>0.110478</td>\n",
       "    </tr>\n",
       "    <tr>\n",
       "      <th>group_average_linked</th>\n",
       "      <td>0.005078</td>\n",
       "      <td>0.029471</td>\n",
       "      <td>0.064335</td>\n",
       "    </tr>\n",
       "    <tr>\n",
       "      <th>weighted_average_linked</th>\n",
       "      <td>0.005524</td>\n",
       "      <td>0.029435</td>\n",
       "      <td>0.062227</td>\n",
       "    </tr>\n",
       "    <tr>\n",
       "      <th>min_max_linked</th>\n",
       "      <td>0.005524</td>\n",
       "      <td>0.029435</td>\n",
       "      <td>0.062227</td>\n",
       "    </tr>\n",
       "  </tbody>\n",
       "</table>\n",
       "</div>"
      ],
      "text/plain": [
       "                             Left      Mean     Right\n",
       "single_linked            0.009540  0.050752  0.110478\n",
       "complete_linked          0.009540  0.051616  0.110478\n",
       "group_average_linked     0.005078  0.029471  0.064335\n",
       "weighted_average_linked  0.005524  0.029435  0.062227\n",
       "min_max_linked           0.005524  0.029435  0.062227"
      ]
     },
     "execution_count": 120,
     "metadata": {},
     "output_type": "execute_result"
    }
   ],
   "source": [
    "res"
   ]
  },
  {
   "cell_type": "code",
   "execution_count": null,
   "metadata": {},
   "outputs": [],
   "source": []
  },
  {
   "cell_type": "code",
   "execution_count": 121,
   "metadata": {},
   "outputs": [],
   "source": [
    "results = pd.DataFrame(MetricsFullExp)"
   ]
  },
  {
   "cell_type": "code",
   "execution_count": 122,
   "metadata": {},
   "outputs": [],
   "source": [
    "results = results[['single_linked', 'complete_linked', 'group_average_linked', 'min_max_linked']]"
   ]
  },
  {
   "cell_type": "code",
   "execution_count": 123,
   "metadata": {},
   "outputs": [
    {
     "data": {
      "text/html": [
       "<div>\n",
       "<style scoped>\n",
       "    .dataframe tbody tr th:only-of-type {\n",
       "        vertical-align: middle;\n",
       "    }\n",
       "\n",
       "    .dataframe tbody tr th {\n",
       "        vertical-align: top;\n",
       "    }\n",
       "\n",
       "    .dataframe thead th {\n",
       "        text-align: right;\n",
       "    }\n",
       "</style>\n",
       "<table border=\"1\" class=\"dataframe\">\n",
       "  <thead>\n",
       "    <tr style=\"text-align: right;\">\n",
       "      <th></th>\n",
       "      <th>single_linked</th>\n",
       "      <th>complete_linked</th>\n",
       "      <th>group_average_linked</th>\n",
       "      <th>min_max_linked</th>\n",
       "    </tr>\n",
       "  </thead>\n",
       "  <tbody>\n",
       "    <tr>\n",
       "      <th>0</th>\n",
       "      <td>0.064342</td>\n",
       "      <td>0.064342</td>\n",
       "      <td>0.037759</td>\n",
       "      <td>0.036023</td>\n",
       "    </tr>\n",
       "    <tr>\n",
       "      <th>1</th>\n",
       "      <td>0.052702</td>\n",
       "      <td>0.052702</td>\n",
       "      <td>0.028036</td>\n",
       "      <td>0.031675</td>\n",
       "    </tr>\n",
       "    <tr>\n",
       "      <th>2</th>\n",
       "      <td>0.030380</td>\n",
       "      <td>0.030380</td>\n",
       "      <td>0.016408</td>\n",
       "      <td>0.018074</td>\n",
       "    </tr>\n",
       "    <tr>\n",
       "      <th>3</th>\n",
       "      <td>0.037452</td>\n",
       "      <td>0.037452</td>\n",
       "      <td>0.021220</td>\n",
       "      <td>0.021537</td>\n",
       "    </tr>\n",
       "    <tr>\n",
       "      <th>4</th>\n",
       "      <td>0.076156</td>\n",
       "      <td>0.076156</td>\n",
       "      <td>0.046768</td>\n",
       "      <td>0.041080</td>\n",
       "    </tr>\n",
       "    <tr>\n",
       "      <th>5</th>\n",
       "      <td>0.005399</td>\n",
       "      <td>0.005399</td>\n",
       "      <td>0.003097</td>\n",
       "      <td>0.003672</td>\n",
       "    </tr>\n",
       "    <tr>\n",
       "      <th>6</th>\n",
       "      <td>0.023804</td>\n",
       "      <td>0.023804</td>\n",
       "      <td>0.011902</td>\n",
       "      <td>0.011902</td>\n",
       "    </tr>\n",
       "    <tr>\n",
       "      <th>7</th>\n",
       "      <td>0.046885</td>\n",
       "      <td>0.046885</td>\n",
       "      <td>0.026446</td>\n",
       "      <td>0.026446</td>\n",
       "    </tr>\n",
       "    <tr>\n",
       "      <th>8</th>\n",
       "      <td>0.120442</td>\n",
       "      <td>0.120442</td>\n",
       "      <td>0.069435</td>\n",
       "      <td>0.068366</td>\n",
       "    </tr>\n",
       "    <tr>\n",
       "      <th>9</th>\n",
       "      <td>0.049962</td>\n",
       "      <td>0.058593</td>\n",
       "      <td>0.033638</td>\n",
       "      <td>0.035569</td>\n",
       "    </tr>\n",
       "  </tbody>\n",
       "</table>\n",
       "</div>"
      ],
      "text/plain": [
       "   single_linked  complete_linked  group_average_linked  min_max_linked\n",
       "0       0.064342         0.064342              0.037759        0.036023\n",
       "1       0.052702         0.052702              0.028036        0.031675\n",
       "2       0.030380         0.030380              0.016408        0.018074\n",
       "3       0.037452         0.037452              0.021220        0.021537\n",
       "4       0.076156         0.076156              0.046768        0.041080\n",
       "5       0.005399         0.005399              0.003097        0.003672\n",
       "6       0.023804         0.023804              0.011902        0.011902\n",
       "7       0.046885         0.046885              0.026446        0.026446\n",
       "8       0.120442         0.120442              0.069435        0.068366\n",
       "9       0.049962         0.058593              0.033638        0.035569"
      ]
     },
     "execution_count": 123,
     "metadata": {},
     "output_type": "execute_result"
    }
   ],
   "source": [
    "results"
   ]
  },
  {
   "cell_type": "code",
   "execution_count": 124,
   "metadata": {},
   "outputs": [
    {
     "data": {
      "text/html": [
       "<div>\n",
       "<style scoped>\n",
       "    .dataframe tbody tr th:only-of-type {\n",
       "        vertical-align: middle;\n",
       "    }\n",
       "\n",
       "    .dataframe tbody tr th {\n",
       "        vertical-align: top;\n",
       "    }\n",
       "\n",
       "    .dataframe thead th {\n",
       "        text-align: right;\n",
       "    }\n",
       "</style>\n",
       "<table border=\"1\" class=\"dataframe\">\n",
       "  <thead>\n",
       "    <tr style=\"text-align: right;\">\n",
       "      <th></th>\n",
       "      <th>single_linked</th>\n",
       "      <th>complete_linked</th>\n",
       "      <th>group_average_linked</th>\n",
       "      <th>min_max_linked</th>\n",
       "    </tr>\n",
       "  </thead>\n",
       "  <tbody>\n",
       "    <tr>\n",
       "      <th>1</th>\n",
       "      <td>0.052702</td>\n",
       "      <td>0.052702</td>\n",
       "      <td>0.028036</td>\n",
       "      <td>0.031675</td>\n",
       "    </tr>\n",
       "    <tr>\n",
       "      <th>2</th>\n",
       "      <td>0.030380</td>\n",
       "      <td>0.030380</td>\n",
       "      <td>0.016408</td>\n",
       "      <td>0.018074</td>\n",
       "    </tr>\n",
       "    <tr>\n",
       "      <th>3</th>\n",
       "      <td>0.037452</td>\n",
       "      <td>0.037452</td>\n",
       "      <td>0.021220</td>\n",
       "      <td>0.021537</td>\n",
       "    </tr>\n",
       "    <tr>\n",
       "      <th>5</th>\n",
       "      <td>0.005399</td>\n",
       "      <td>0.005399</td>\n",
       "      <td>0.003097</td>\n",
       "      <td>0.003672</td>\n",
       "    </tr>\n",
       "    <tr>\n",
       "      <th>9</th>\n",
       "      <td>0.049962</td>\n",
       "      <td>0.058593</td>\n",
       "      <td>0.033638</td>\n",
       "      <td>0.035569</td>\n",
       "    </tr>\n",
       "  </tbody>\n",
       "</table>\n",
       "</div>"
      ],
      "text/plain": [
       "   single_linked  complete_linked  group_average_linked  min_max_linked\n",
       "1       0.052702         0.052702              0.028036        0.031675\n",
       "2       0.030380         0.030380              0.016408        0.018074\n",
       "3       0.037452         0.037452              0.021220        0.021537\n",
       "5       0.005399         0.005399              0.003097        0.003672\n",
       "9       0.049962         0.058593              0.033638        0.035569"
      ]
     },
     "execution_count": 124,
     "metadata": {},
     "output_type": "execute_result"
    }
   ],
   "source": [
    "results[results.group_average_linked < results.min_max_linked]"
   ]
  },
  {
   "cell_type": "code",
   "execution_count": 131,
   "metadata": {},
   "outputs": [],
   "source": [
    "K_var = 1"
   ]
  },
  {
   "cell_type": "code",
   "execution_count": 132,
   "metadata": {},
   "outputs": [
    {
     "data": {
      "image/png": "[encoded data removed]",
      "text/plain": [
       "<Figure size 640x480 with 1 Axes>"
      ]
     },
     "metadata": {},
     "output_type": "display_data"
    }
   ],
   "source": [
    "plt.scatter(ssamples[K_var][:,0], ssamples[K_var][:,1])\n",
    "for i, xy in enumerate(ssamples[K_var]):\n",
    "    plt.text(xy[0]+0.02, xy[1], str(i), fontsize=11)\n",
    "plt.show()"
   ]
  },
  {
   "cell_type": "code",
   "execution_count": 155,
   "metadata": {},
   "outputs": [
    {
     "data": {
      "text/html": [
       "<div>\n",
       "<style scoped>\n",
       "    .dataframe tbody tr th:only-of-type {\n",
       "        vertical-align: middle;\n",
       "    }\n",
       "\n",
       "    .dataframe tbody tr th {\n",
       "        vertical-align: top;\n",
       "    }\n",
       "\n",
       "    .dataframe thead th {\n",
       "        text-align: right;\n",
       "    }\n",
       "</style>\n",
       "<table border=\"1\" class=\"dataframe\">\n",
       "  <thead>\n",
       "    <tr style=\"text-align: right;\">\n",
       "      <th></th>\n",
       "      <th>X</th>\n",
       "      <th>Y</th>\n",
       "    </tr>\n",
       "  </thead>\n",
       "  <tbody>\n",
       "    <tr>\n",
       "      <th>0</th>\n",
       "      <td>1.50</td>\n",
       "      <td>1.54</td>\n",
       "    </tr>\n",
       "    <tr>\n",
       "      <th>1</th>\n",
       "      <td>2.01</td>\n",
       "      <td>2.29</td>\n",
       "    </tr>\n",
       "    <tr>\n",
       "      <th>2</th>\n",
       "      <td>1.43</td>\n",
       "      <td>1.77</td>\n",
       "    </tr>\n",
       "    <tr>\n",
       "      <th>3</th>\n",
       "      <td>1.26</td>\n",
       "      <td>1.49</td>\n",
       "    </tr>\n",
       "  </tbody>\n",
       "</table>\n",
       "</div>"
      ],
      "text/plain": [
       "      X     Y\n",
       "0  1.50  1.54\n",
       "1  2.01  2.29\n",
       "2  1.43  1.77\n",
       "3  1.26  1.49"
      ]
     },
     "execution_count": 155,
     "metadata": {},
     "output_type": "execute_result"
    }
   ],
   "source": [
    "pd.DataFrame(ssamples[K_var], columns=['X', 'Y']).round(2)"
   ]
  },
  {
   "cell_type": "code",
   "execution_count": null,
   "metadata": {},
   "outputs": [],
   "source": [
    "new_data = ssamples[K_var].round(2)"
   ]
  },
  {
   "cell_type": "code",
   "execution_count": null,
   "metadata": {},
   "outputs": [],
   "source": [
    "# 0: 2, 1\n",
    "# 1: 4, 5\n",
    "# 2: 1, 3\n",
    "# 3: 0, 0"
   ]
  },
  {
   "cell_type": "code",
   "execution_count": 162,
   "metadata": {},
   "outputs": [],
   "source": [
    "new_data = np.array([\n",
    "    [2, 1],\n",
    "    [4, 5],\n",
    "    [1, 3],\n",
    "    [0, 0]\n",
    "])"
   ]
  },
  {
   "cell_type": "code",
   "execution_count": 163,
   "metadata": {},
   "outputs": [
    {
     "data": {
      "text/plain": [
       "array([[2, 1],\n",
       "       [4, 5],\n",
       "       [1, 3],\n",
       "       [0, 0]])"
      ]
     },
     "execution_count": 163,
     "metadata": {},
     "output_type": "execute_result"
    }
   ],
   "source": [
    "new_data"
   ]
  },
  {
   "cell_type": "code",
   "execution_count": 175,
   "metadata": {},
   "outputs": [
    {
     "data": {
      "image/png": "[encoded data removed]",
      "text/plain": [
       "<Figure size 640x480 with 1 Axes>"
      ]
     },
     "metadata": {},
     "output_type": "display_data"
    }
   ],
   "source": [
    "plt.scatter(new_data[:,0], new_data[:,1])\n",
    "for i, xy in enumerate(new_data):\n",
    "    plt.text(xy[0]+0.05, xy[1], str(i), fontsize=11)\n",
    "plt.show()"
   ]
  },
  {
   "cell_type": "code",
   "execution_count": null,
   "metadata": {},
   "outputs": [],
   "source": []
  },
  {
   "cell_type": "code",
   "execution_count": 167,
   "metadata": {},
   "outputs": [
    {
     "data": {
      "text/html": [
       "<div>\n",
       "<style scoped>\n",
       "    .dataframe tbody tr th:only-of-type {\n",
       "        vertical-align: middle;\n",
       "    }\n",
       "\n",
       "    .dataframe tbody tr th {\n",
       "        vertical-align: top;\n",
       "    }\n",
       "\n",
       "    .dataframe thead th {\n",
       "        text-align: right;\n",
       "    }\n",
       "</style>\n",
       "<table border=\"1\" class=\"dataframe\">\n",
       "  <thead>\n",
       "    <tr style=\"text-align: right;\">\n",
       "      <th></th>\n",
       "      <th>0</th>\n",
       "      <th>1</th>\n",
       "      <th>2</th>\n",
       "      <th>3</th>\n",
       "    </tr>\n",
       "  </thead>\n",
       "  <tbody>\n",
       "    <tr>\n",
       "      <th>0</th>\n",
       "      <td>0.000000</td>\n",
       "      <td>4.472136</td>\n",
       "      <td>2.236068</td>\n",
       "      <td>2.236068</td>\n",
       "    </tr>\n",
       "    <tr>\n",
       "      <th>1</th>\n",
       "      <td>4.472136</td>\n",
       "      <td>0.000000</td>\n",
       "      <td>3.605551</td>\n",
       "      <td>6.403124</td>\n",
       "    </tr>\n",
       "    <tr>\n",
       "      <th>2</th>\n",
       "      <td>2.236068</td>\n",
       "      <td>3.605551</td>\n",
       "      <td>0.000000</td>\n",
       "      <td>3.162278</td>\n",
       "    </tr>\n",
       "    <tr>\n",
       "      <th>3</th>\n",
       "      <td>2.236068</td>\n",
       "      <td>6.403124</td>\n",
       "      <td>3.162278</td>\n",
       "      <td>0.000000</td>\n",
       "    </tr>\n",
       "  </tbody>\n",
       "</table>\n",
       "</div>"
      ],
      "text/plain": [
       "          0         1         2         3\n",
       "0  0.000000  4.472136  2.236068  2.236068\n",
       "1  4.472136  0.000000  3.605551  6.403124\n",
       "2  2.236068  3.605551  0.000000  3.162278\n",
       "3  2.236068  6.403124  3.162278  0.000000"
      ]
     },
     "execution_count": 167,
     "metadata": {},
     "output_type": "execute_result"
    }
   ],
   "source": [
    "from sklearn.metrics import pairwise_distances\n",
    "\n",
    "pd.DataFrame(pairwise_distances(new_data, metric='euclidean'))"
   ]
  },
  {
   "cell_type": "code",
   "execution_count": 184,
   "metadata": {},
   "outputs": [
    {
     "data": {
      "text/plain": [
       "12.999998013601001"
      ]
     },
     "execution_count": 184,
     "metadata": {},
     "output_type": "execute_result"
    }
   ],
   "source": [
    "3.605551 ** 2"
   ]
  },
  {
   "cell_type": "code",
   "execution_count": null,
   "metadata": {},
   "outputs": [],
   "source": []
  },
  {
   "cell_type": "code",
   "execution_count": null,
   "metadata": {},
   "outputs": [],
   "source": []
  },
  {
   "cell_type": "code",
   "execution_count": 185,
   "metadata": {},
   "outputs": [],
   "source": [
    "from HierarchyClustering import hierarchy as hierarchylogs"
   ]
  },
  {
   "cell_type": "code",
   "execution_count": 186,
   "metadata": {},
   "outputs": [
    {
     "name": "stdout",
     "output_type": "stream",
     "text": [
      "Distance matrix: 0 step\n",
      "          0         1         2         3\n",
      "0  0.000000  4.472136  2.236068  2.236068\n",
      "1  4.472136  0.000000  3.605551  6.403124\n",
      "2  2.236068  3.605551  0.000000  3.162278\n",
      "3  2.236068  6.403124  3.162278  0.000000\n",
      "\n",
      "Clusters:['0' '1' '2' '3']\n",
      "\n",
      "\n",
      "(0, 2)\n",
      "Clusters: ['(0, 2)' '1' '3']\n",
      "Distance matrix: 1 step\n",
      "          0         1         2\n",
      "0  8.403124  4.038844  2.699173\n",
      "1  4.038844  7.403124  6.403124\n",
      "2  2.699173  6.403124  7.403124\n",
      "\n",
      "\n",
      "\n",
      "((0, 2), 3)\n",
      "Clusters: ['((0, 2), 3)' '1']\n",
      "Distance matrix: 2 step\n",
      "          0         1\n",
      "0  8.403124  5.220984\n",
      "1  5.220984  7.403124\n",
      "\n",
      "\n",
      "\n",
      "(((0, 2), 3), 1)\n",
      "Clusters: ['(((0, 2), 3), 1)']\n",
      "Distance matrix: 3 step\n",
      "     0\n",
      "0  1.0\n",
      "\n",
      "\n",
      "\n"
     ]
    }
   ],
   "source": [
    "logs = hierarchylogs(new_data, metric='euclidean', method=min_max_linked)"
   ]
  },
  {
   "cell_type": "code",
   "execution_count": 136,
   "metadata": {},
   "outputs": [
    {
     "data": {
      "text/plain": [
       "array([[0.        , 0.90901617, 0.23865367, 0.23941083],\n",
       "       [0.90901617, 0.        , 0.78124495, 1.09745495],\n",
       "       [0.23865367, 0.78124495, 0.        , 0.32742214],\n",
       "       [0.23941083, 1.09745495, 0.32742214, 0.        ]])"
      ]
     },
     "execution_count": 136,
     "metadata": {},
     "output_type": "execute_result"
    }
   ],
   "source": [
    "logs[K_var]"
   ]
  },
  {
   "cell_type": "code",
   "execution_count": 137,
   "metadata": {},
   "outputs": [
    {
     "data": {
      "image/png": "[encoded data removed]",
      "text/plain": [
       "<Figure size 640x480 with 1 Axes>"
      ]
     },
     "metadata": {},
     "output_type": "display_data"
    }
   ],
   "source": [
    "plt.scatter(ssamples[K_var][:,0], ssamples[K_var][:,1])\n",
    "for i, xy in enumerate(ssamples[K_var]):\n",
    "    plt.text(xy[0]+0.02, xy[1], str(i), fontsize=11)\n",
    "plt.show()"
   ]
  },
  {
   "cell_type": "code",
   "execution_count": null,
   "metadata": {},
   "outputs": [],
   "source": []
  },
  {
   "cell_type": "code",
   "execution_count": null,
   "metadata": {},
   "outputs": [],
   "source": []
  },
  {
   "cell_type": "code",
   "execution_count": 37,
   "metadata": {},
   "outputs": [
    {
     "data": {
      "text/plain": [
       "0"
      ]
     },
     "execution_count": 37,
     "metadata": {},
     "output_type": "execute_result"
    }
   ],
   "source": [
    "len(results.query('min_max_linked < group_average_linked'))"
   ]
  },
  {
   "cell_type": "code",
   "execution_count": null,
   "metadata": {},
   "outputs": [],
   "source": []
  },
  {
   "cell_type": "code",
   "execution_count": 11,
   "metadata": {},
   "outputs": [
    {
     "data": {
      "image/png": "[encoded data removed]",
      "text/plain": [
       "<Figure size 640x480 with 1 Axes>"
      ]
     },
     "metadata": {},
     "output_type": "display_data"
    }
   ],
   "source": [
    "import seaborn as sns\n",
    "sns.histplot(MetricsFullExp['single_linked'], bins=30, kde=True, color='red', alpha=0.5)\n",
    "plt.show()"
   ]
  },
  {
   "cell_type": "code",
   "execution_count": null,
   "metadata": {},
   "outputs": [],
   "source": []
  }
 ],
 "metadata": {
  "kernelspec": {
   "display_name": "venv",
   "language": "python",
   "name": "python3"
  },
  "language_info": {
   "codemirror_mode": {
    "name": "ipython",
    "version": 3
   },
   "file_extension": ".py",
   "mimetype": "text/x-python",
   "name": "python",
   "nbconvert_exporter": "python",
   "pygments_lexer": "ipython3",
   "version": "3.10.2 (v3.10.2:a58ebcc701, Jan 13 2022, 14:50:16) [Clang 13.0.0 (clang-1300.0.29.30)]"
  },
  "orig_nbformat": 4,
  "vscode": {
   "interpreter": {
    "hash": "c6ffd68500972d28465f021baa2ff4a7fbf6f841c23c59c0980ff9e31e376a9e"
   }
  }
 },
 "nbformat": 4,
 "nbformat_minor": 2
}

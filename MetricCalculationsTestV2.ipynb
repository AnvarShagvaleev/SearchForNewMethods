{
 "cells": [
  {
   "attachments": {},
   "cell_type": "markdown",
   "metadata": {},
   "source": [
    "# Подключаем библиотеки"
   ]
  },
  {
   "cell_type": "code",
   "execution_count": 20,
   "metadata": {},
   "outputs": [],
   "source": [
    "from MainWorkers import FUNCOFMETHODS, pipe, get_gen_sample, times_when_method_better, RunExperiment\n",
    "import numpy as np\n",
    "import scipy.stats as sts\n",
    "import pandas as pd\n",
    "import seaborn as sns\n",
    "import matplotlib.pyplot as plt\n",
    "import pickle\n",
    "import datetime\n",
    "from SomeFunc import comparison_of_two"
   ]
  },
  {
   "cell_type": "code",
   "execution_count": 21,
   "metadata": {},
   "outputs": [
    {
     "ename": "KeyboardInterrupt",
     "evalue": "",
     "output_type": "error",
     "traceback": [
      "\u001b[0;31m---------------------------------------------------------------------------\u001b[0m",
      "\u001b[0;31mKeyboardInterrupt\u001b[0m                         Traceback (most recent call last)",
      "Cell \u001b[0;32mIn[21], line 1\u001b[0m\n\u001b[0;32m----> 1\u001b[0m ResultsForMax, ResultsForSum, Samples, Ultradists \u001b[39m=\u001b[39m RunExperiment(\u001b[39m20000\u001b[39;49m, \u001b[39m100\u001b[39;49m, \u001b[39m100\u001b[39;49m, FUNCOFMETHODS)\n",
      "File \u001b[0;32m~/Education/DataScience/University/Graduate/MasterWork/BestMetric/MainWorkers.py:96\u001b[0m, in \u001b[0;36mRunExperiment\u001b[0;34m(size, sample_size, n_iter, FUNCOFMETHODS)\u001b[0m\n\u001b[1;32m     93\u001b[0m Samples\u001b[39m.\u001b[39mappend(sample)\n\u001b[1;32m     95\u001b[0m \u001b[39mfor\u001b[39;00m method_name, method_func \u001b[39min\u001b[39;00m FUNCOFMETHODS\u001b[39m.\u001b[39mitems():\n\u001b[0;32m---> 96\u001b[0m     metrics_both_and_ultradists \u001b[39m=\u001b[39m pipe(sample, method_func)\n\u001b[1;32m     97\u001b[0m     MetricsByMethodsForMax[method_name]\u001b[39m.\u001b[39mappend(metrics_both_and_ultradists[\u001b[39m0\u001b[39m])\n\u001b[1;32m     98\u001b[0m     MetricsByMethodsForSum[method_name]\u001b[39m.\u001b[39mappend(metrics_both_and_ultradists[\u001b[39m1\u001b[39m])\n",
      "File \u001b[0;32m~/Education/DataScience/University/Graduate/MasterWork/BestMetric/MainWorkers.py:31\u001b[0m, in \u001b[0;36mpipe\u001b[0;34m(points, method)\u001b[0m\n\u001b[1;32m     29\u001b[0m     logs \u001b[39m=\u001b[39m MedianHierarchy(points, metric\u001b[39m=\u001b[39m\u001b[39m'\u001b[39m\u001b[39meuclidean\u001b[39m\u001b[39m'\u001b[39m)\n\u001b[1;32m     30\u001b[0m \u001b[39melse\u001b[39;00m:\n\u001b[0;32m---> 31\u001b[0m     logs \u001b[39m=\u001b[39m hierarchy(points, metric\u001b[39m=\u001b[39;49m\u001b[39m'\u001b[39;49m\u001b[39meuclidean\u001b[39;49m\u001b[39m'\u001b[39;49m, method\u001b[39m=\u001b[39;49mmethod)\n\u001b[1;32m     33\u001b[0m start_matrix \u001b[39m=\u001b[39m logs[\u001b[39m1\u001b[39m]\n\u001b[1;32m     34\u001b[0m ultra_dists \u001b[39m=\u001b[39m logs[\u001b[39m2\u001b[39m]\n",
      "File \u001b[0;32m~/Education/DataScience/University/Graduate/MasterWork/BestMetric/HierarchyClusteringWithoutLogs.py:65\u001b[0m, in \u001b[0;36mhierarchy\u001b[0;34m(points, metric, method, logs_turn_on)\u001b[0m\n\u001b[1;32m     58\u001b[0m     \u001b[39mif\u001b[39;00m i \u001b[39mnot\u001b[39;00m \u001b[39min\u001b[39;00m indices:\n\u001b[1;32m     59\u001b[0m         cur_index \u001b[39m+\u001b[39m\u001b[39m=\u001b[39m \u001b[39m1\u001b[39m\n\u001b[1;32m     60\u001b[0m         new_dist[\u001b[39m0\u001b[39m][cur_index] \u001b[39m=\u001b[39m new_dist[cur_index][\u001b[39m0\u001b[39m] \u001b[39m=\u001b[39m method(\n\u001b[1;32m     61\u001b[0m             dist,\n\u001b[1;32m     62\u001b[0m             indices[\u001b[39m0\u001b[39m],\n\u001b[1;32m     63\u001b[0m             indices[\u001b[39m1\u001b[39m], \n\u001b[1;32m     64\u001b[0m             i,\n\u001b[0;32m---> 65\u001b[0m             clusters_param\u001b[39m=\u001b[39mcount_clusters(make_tuple(new_cluster))\n\u001b[1;32m     66\u001b[0m         )\n\u001b[1;32m     68\u001b[0m new_dist[\u001b[39m0\u001b[39m][\u001b[39m0\u001b[39m] \u001b[39m=\u001b[39m np\u001b[39m.\u001b[39mmax(new_dist) \u001b[39m+\u001b[39m \u001b[39m1\u001b[39m\n\u001b[1;32m     70\u001b[0m dist_for_log \u001b[39m=\u001b[39m new_dist\u001b[39m.\u001b[39mcopy()\n",
      "File \u001b[0;32m~/Education/DataScience/University/Graduate/MasterWork/BestMetric/UltrametricMatrix.py:34\u001b[0m, in \u001b[0;36mcount_clusters\u001b[0;34m(q)\u001b[0m\n\u001b[1;32m     32\u001b[0m \u001b[39mdef\u001b[39;00m \u001b[39mcount_clusters\u001b[39m(q):\n\u001b[1;32m     33\u001b[0m     \u001b[39mif\u001b[39;00m \u001b[39misinstance\u001b[39m(flatten(q[\u001b[39m0\u001b[39m]), \u001b[39mtuple\u001b[39m):\n\u001b[0;32m---> 34\u001b[0m         left \u001b[39m=\u001b[39m \u001b[39mlen\u001b[39m(flatten(q[\u001b[39m0\u001b[39;49m]))\n\u001b[1;32m     35\u001b[0m     \u001b[39melse\u001b[39;00m:\n\u001b[1;32m     36\u001b[0m         left \u001b[39m=\u001b[39m \u001b[39m1\u001b[39m\n",
      "File \u001b[0;32m~/Education/DataScience/University/Graduate/MasterWork/BestMetric/UltrametricMatrix.py:9\u001b[0m, in \u001b[0;36mflatten\u001b[0;34m(s)\u001b[0m\n\u001b[1;32m      7\u001b[0m     \u001b[39mreturn\u001b[39;00m s\n\u001b[1;32m      8\u001b[0m \u001b[39mif\u001b[39;00m \u001b[39misinstance\u001b[39m(s[\u001b[39m0\u001b[39m], \u001b[39mtuple\u001b[39m):\n\u001b[0;32m----> 9\u001b[0m     \u001b[39mreturn\u001b[39;00m(flatten(s[\u001b[39m0\u001b[39;49m]) \u001b[39m+\u001b[39m flatten(s[\u001b[39m1\u001b[39m:]))\n\u001b[1;32m     10\u001b[0m \u001b[39mreturn\u001b[39;00m(s[:\u001b[39m1\u001b[39m] \u001b[39m+\u001b[39m flatten(s[\u001b[39m1\u001b[39m:]))\n",
      "File \u001b[0;32m~/Education/DataScience/University/Graduate/MasterWork/BestMetric/UltrametricMatrix.py:10\u001b[0m, in \u001b[0;36mflatten\u001b[0;34m(s)\u001b[0m\n\u001b[1;32m      8\u001b[0m \u001b[39mif\u001b[39;00m \u001b[39misinstance\u001b[39m(s[\u001b[39m0\u001b[39m], \u001b[39mtuple\u001b[39m):\n\u001b[1;32m      9\u001b[0m     \u001b[39mreturn\u001b[39;00m(flatten(s[\u001b[39m0\u001b[39m]) \u001b[39m+\u001b[39m flatten(s[\u001b[39m1\u001b[39m:]))\n\u001b[0;32m---> 10\u001b[0m \u001b[39mreturn\u001b[39;00m(s[:\u001b[39m1\u001b[39m] \u001b[39m+\u001b[39m flatten(s[\u001b[39m1\u001b[39;49m:]))\n",
      "File \u001b[0;32m~/Education/DataScience/University/Graduate/MasterWork/BestMetric/UltrametricMatrix.py:3\u001b[0m, in \u001b[0;36mflatten\u001b[0;34m(s)\u001b[0m\n\u001b[1;32m      1\u001b[0m \u001b[39mimport\u001b[39;00m \u001b[39mnumpy\u001b[39;00m \u001b[39mas\u001b[39;00m \u001b[39mnp\u001b[39;00m\n\u001b[0;32m----> 3\u001b[0m \u001b[39mdef\u001b[39;00m \u001b[39mflatten\u001b[39m(s):\n\u001b[1;32m      4\u001b[0m     \u001b[39mif\u001b[39;00m \u001b[39misinstance\u001b[39m(s, \u001b[39mint\u001b[39m):\n\u001b[1;32m      5\u001b[0m         \u001b[39mreturn\u001b[39;00m (s,)\n",
      "\u001b[0;31mKeyboardInterrupt\u001b[0m: "
     ]
    }
   ],
   "source": [
    "ResultsForMax, ResultsForSum, Samples, Ultradists = RunExperiment(1000, 5, 100, FUNCOFMETHODS)"
   ]
  },
  {
   "cell_type": "code",
   "execution_count": null,
   "metadata": {},
   "outputs": [],
   "source": [
    "# Сохраняем данные в логи\n",
    "# now = str(datetime.datetime.today().replace(microsecond=0))\n",
    "\n",
    "# with open(f\"./TestSamples/Samples/{now}\", \"wb\") as fp:\n",
    "#     pickle.dump(Samples, fp)\n",
    "\n",
    "# with open(\"./TestSamples/Samples/s1\", \"rb\") as fp:\n",
    "#     sam = pickle.load(fp)"
   ]
  },
  {
   "attachments": {},
   "cell_type": "markdown",
   "metadata": {},
   "source": [
    "# Подсчет результатов"
   ]
  },
  {
   "cell_type": "code",
   "execution_count": null,
   "metadata": {},
   "outputs": [
    {
     "data": {
      "text/html": [
       "<div>\n",
       "<style scoped>\n",
       "    .dataframe tbody tr th:only-of-type {\n",
       "        vertical-align: middle;\n",
       "    }\n",
       "\n",
       "    .dataframe tbody tr th {\n",
       "        vertical-align: top;\n",
       "    }\n",
       "\n",
       "    .dataframe thead th {\n",
       "        text-align: right;\n",
       "    }\n",
       "</style>\n",
       "<table border=\"1\" class=\"dataframe\">\n",
       "  <thead>\n",
       "    <tr style=\"text-align: right;\">\n",
       "      <th></th>\n",
       "      <th>single_linked</th>\n",
       "      <th>complete_linked</th>\n",
       "      <th>group_average_linked</th>\n",
       "      <th>weighted_average_linked</th>\n",
       "      <th>min_max_linked</th>\n",
       "      <th>median_linked</th>\n",
       "    </tr>\n",
       "  </thead>\n",
       "  <tbody>\n",
       "    <tr>\n",
       "      <th>0</th>\n",
       "      <td>77.498538</td>\n",
       "      <td>77.498538</td>\n",
       "      <td>42.608598</td>\n",
       "      <td>42.608598</td>\n",
       "      <td>38.749269</td>\n",
       "      <td>63.918199</td>\n",
       "    </tr>\n",
       "    <tr>\n",
       "      <th>1</th>\n",
       "      <td>76.100579</td>\n",
       "      <td>76.100579</td>\n",
       "      <td>40.371785</td>\n",
       "      <td>38.143357</td>\n",
       "      <td>38.050290</td>\n",
       "      <td>38.435901</td>\n",
       "    </tr>\n",
       "    <tr>\n",
       "      <th>2</th>\n",
       "      <td>98.878021</td>\n",
       "      <td>119.834816</td>\n",
       "      <td>59.579473</td>\n",
       "      <td>53.837320</td>\n",
       "      <td>49.439011</td>\n",
       "      <td>80.735923</td>\n",
       "    </tr>\n",
       "    <tr>\n",
       "      <th>3</th>\n",
       "      <td>61.049900</td>\n",
       "      <td>78.052615</td>\n",
       "      <td>36.198837</td>\n",
       "      <td>36.198837</td>\n",
       "      <td>30.524950</td>\n",
       "      <td>41.872725</td>\n",
       "    </tr>\n",
       "    <tr>\n",
       "      <th>4</th>\n",
       "      <td>77.991573</td>\n",
       "      <td>77.991573</td>\n",
       "      <td>40.933453</td>\n",
       "      <td>44.671286</td>\n",
       "      <td>38.995787</td>\n",
       "      <td>43.423153</td>\n",
       "    </tr>\n",
       "  </tbody>\n",
       "</table>\n",
       "</div>"
      ],
      "text/plain": [
       "   single_linked  complete_linked  group_average_linked  \\\n",
       "0      77.498538        77.498538             42.608598   \n",
       "1      76.100579        76.100579             40.371785   \n",
       "2      98.878021       119.834816             59.579473   \n",
       "3      61.049900        78.052615             36.198837   \n",
       "4      77.991573        77.991573             40.933453   \n",
       "\n",
       "   weighted_average_linked  min_max_linked  median_linked  \n",
       "0                42.608598       38.749269      63.918199  \n",
       "1                38.143357       38.050290      38.435901  \n",
       "2                53.837320       49.439011      80.735923  \n",
       "3                36.198837       30.524950      41.872725  \n",
       "4                44.671286       38.995787      43.423153  "
      ]
     },
     "execution_count": 4,
     "metadata": {},
     "output_type": "execute_result"
    }
   ],
   "source": [
    "ResultsForMax.head()"
   ]
  },
  {
   "cell_type": "code",
   "execution_count": null,
   "metadata": {},
   "outputs": [
    {
     "data": {
      "text/html": [
       "<div>\n",
       "<style scoped>\n",
       "    .dataframe tbody tr th:only-of-type {\n",
       "        vertical-align: middle;\n",
       "    }\n",
       "\n",
       "    .dataframe tbody tr th {\n",
       "        vertical-align: top;\n",
       "    }\n",
       "\n",
       "    .dataframe thead th {\n",
       "        text-align: right;\n",
       "    }\n",
       "</style>\n",
       "<table border=\"1\" class=\"dataframe\">\n",
       "  <thead>\n",
       "    <tr style=\"text-align: right;\">\n",
       "      <th></th>\n",
       "      <th>single_linked</th>\n",
       "      <th>complete_linked</th>\n",
       "      <th>group_average_linked</th>\n",
       "      <th>weighted_average_linked</th>\n",
       "      <th>min_max_linked</th>\n",
       "      <th>median_linked</th>\n",
       "    </tr>\n",
       "  </thead>\n",
       "  <tbody>\n",
       "    <tr>\n",
       "      <th>0</th>\n",
       "      <td>45.761725</td>\n",
       "      <td>34.555958</td>\n",
       "      <td>32.899089</td>\n",
       "      <td>32.899089</td>\n",
       "      <td>34.156799</td>\n",
       "      <td>49.802533</td>\n",
       "    </tr>\n",
       "    <tr>\n",
       "      <th>1</th>\n",
       "      <td>44.802972</td>\n",
       "      <td>50.374561</td>\n",
       "      <td>39.519237</td>\n",
       "      <td>39.519237</td>\n",
       "      <td>39.519237</td>\n",
       "      <td>39.519237</td>\n",
       "    </tr>\n",
       "    <tr>\n",
       "      <th>2</th>\n",
       "      <td>76.510667</td>\n",
       "      <td>58.595503</td>\n",
       "      <td>51.539366</td>\n",
       "      <td>57.354875</td>\n",
       "      <td>55.595551</td>\n",
       "      <td>43.202381</td>\n",
       "    </tr>\n",
       "    <tr>\n",
       "      <th>3</th>\n",
       "      <td>35.200153</td>\n",
       "      <td>63.878764</td>\n",
       "      <td>24.707761</td>\n",
       "      <td>24.707761</td>\n",
       "      <td>26.977316</td>\n",
       "      <td>23.143350</td>\n",
       "    </tr>\n",
       "    <tr>\n",
       "      <th>4</th>\n",
       "      <td>50.872927</td>\n",
       "      <td>55.523326</td>\n",
       "      <td>34.570733</td>\n",
       "      <td>34.570733</td>\n",
       "      <td>34.570733</td>\n",
       "      <td>34.570733</td>\n",
       "    </tr>\n",
       "  </tbody>\n",
       "</table>\n",
       "</div>"
      ],
      "text/plain": [
       "   single_linked  complete_linked  group_average_linked  \\\n",
       "0      45.761725        34.555958             32.899089   \n",
       "1      44.802972        50.374561             39.519237   \n",
       "2      76.510667        58.595503             51.539366   \n",
       "3      35.200153        63.878764             24.707761   \n",
       "4      50.872927        55.523326             34.570733   \n",
       "\n",
       "   weighted_average_linked  min_max_linked  median_linked  \n",
       "0                32.899089       34.156799      49.802533  \n",
       "1                39.519237       39.519237      39.519237  \n",
       "2                57.354875       55.595551      43.202381  \n",
       "3                24.707761       26.977316      23.143350  \n",
       "4                34.570733       34.570733      34.570733  "
      ]
     },
     "execution_count": 5,
     "metadata": {},
     "output_type": "execute_result"
    }
   ],
   "source": [
    "ResultsForSum.head()"
   ]
  },
  {
   "attachments": {},
   "cell_type": "markdown",
   "metadata": {},
   "source": [
    "# Матрица сравнения результатов"
   ]
  },
  {
   "cell_type": "code",
   "execution_count": null,
   "metadata": {},
   "outputs": [
    {
     "data": {
      "text/plain": [
       "<AxesSubplot: >"
      ]
     },
     "execution_count": 6,
     "metadata": {},
     "output_type": "execute_result"
    },
    {
     "data": {
      "image/png": "[encoded data removed]",
      "text/plain": [
       "<Figure size 640x480 with 2 Axes>"
      ]
     },
     "metadata": {},
     "output_type": "display_data"
    }
   ],
   "source": [
    "sns.heatmap(times_when_method_better(ResultsForMax), annot=True)"
   ]
  },
  {
   "cell_type": "code",
   "execution_count": null,
   "metadata": {},
   "outputs": [
    {
     "data": {
      "text/plain": [
       "<AxesSubplot: >"
      ]
     },
     "execution_count": 7,
     "metadata": {},
     "output_type": "execute_result"
    },
    {
     "data": {
      "image/png": "[encoded data removed]",
      "text/plain": [
       "<Figure size 640x480 with 2 Axes>"
      ]
     },
     "metadata": {},
     "output_type": "display_data"
    }
   ],
   "source": [
    "sns.heatmap(times_when_method_better(ResultsForSum), annot=True)"
   ]
  },
  {
   "cell_type": "code",
   "execution_count": null,
   "metadata": {},
   "outputs": [
    {
     "data": {
      "text/plain": [
       "96"
      ]
     },
     "execution_count": 8,
     "metadata": {},
     "output_type": "execute_result"
    }
   ],
   "source": [
    "ResultsForSum.query(\"median_linked <= min_max_linked\").shape[0] "
   ]
  },
  {
   "attachments": {},
   "cell_type": "markdown",
   "metadata": {},
   "source": [
    "# Проверка на монотонность"
   ]
  },
  {
   "cell_type": "code",
   "execution_count": null,
   "metadata": {},
   "outputs": [
    {
     "name": "stdout",
     "output_type": "stream",
     "text": [
      "SINGLE_LINKED\n",
      "the method is monotonous\n",
      "\n",
      "COMPLETE_LINKED\n",
      "the method is monotonous\n",
      "\n",
      "GROUP_AVERAGE_LINKED\n",
      "the method is monotonous\n",
      "\n",
      "WEIGHTED_AVERAGE_LINKED\n",
      "the method is monotonous\n",
      "\n",
      "MIN_MAX_LINKED\n",
      "the method is monotonous\n",
      "\n",
      "MEDIAN_LINKED\n",
      "the method is monotonous\n",
      "\n"
     ]
    }
   ],
   "source": [
    "for name_of_method in Ultradists.keys():\n",
    "    print(name_of_method.upper())\n",
    "    flag = 0\n",
    "    for num, ultra in enumerate(Ultradists[name_of_method]):\n",
    "        if sorted(ultra) != ultra:\n",
    "            print(f\"Пример номер {num}\")\n",
    "            print(ultra)\n",
    "            print()\n",
    "            print()\n",
    "            flag = 1\n",
    "    if flag != 1:\n",
    "        print(\"the method is monotonous\")\n",
    "        print()"
   ]
  },
  {
   "attachments": {},
   "cell_type": "markdown",
   "metadata": {},
   "source": [
    "### Анализ (Отлов примеров, когда МинМакс дает результаты хуже других методов)"
   ]
  },
  {
   "cell_type": "code",
   "execution_count": null,
   "metadata": {},
   "outputs": [
    {
     "name": "stdout",
     "output_type": "stream",
     "text": [
      "Метрика 'Максимального отклонения'\n",
      "Сэмплы, когда min_max_linked дает результаты хуже, чем single_linked\n",
      "Случаев не обнаружено\n"
     ]
    }
   ],
   "source": [
    "comparison_of_two(ResultsForMax, Samples, 'min_max_linked', 'single_linked', 'max')"
   ]
  },
  {
   "cell_type": "code",
   "execution_count": null,
   "metadata": {},
   "outputs": [
    {
     "name": "stdout",
     "output_type": "stream",
     "text": [
      "Метрика 'Максимального отклонения'\n",
      "Сэмплы, когда min_max_linked дает результаты хуже, чем complete_linked\n",
      "Случаев не обнаружено\n"
     ]
    }
   ],
   "source": [
    "comparison_of_two(ResultsForMax, Samples, 'min_max_linked', 'complete_linked', 'max')"
   ]
  },
  {
   "cell_type": "code",
   "execution_count": null,
   "metadata": {},
   "outputs": [
    {
     "name": "stdout",
     "output_type": "stream",
     "text": [
      "Метрика 'Максимального отклонения'\n",
      "Сэмплы, когда min_max_linked дает результаты хуже, чем weighted_average_linked\n",
      "Номер выборки 43\n",
      "[[155.8 152.7]\n",
      " [124.2 166.1]\n",
      " [ 94.5  81.4]\n",
      " [164.1 146.2]\n",
      " [103.4 116.2]]\n",
      "\n",
      "Номер выборки 99\n",
      "[[111.1 104.2]\n",
      " [142.3  97.6]\n",
      " [143.4 163.4]\n",
      " [ 93.5 104.1]\n",
      " [112.6 164.8]]\n",
      "\n"
     ]
    }
   ],
   "source": [
    "comparison_of_two(ResultsForMax, Samples, 'min_max_linked', 'weighted_average_linked', 'max')"
   ]
  },
  {
   "cell_type": "code",
   "execution_count": null,
   "metadata": {},
   "outputs": [
    {
     "name": "stdout",
     "output_type": "stream",
     "text": [
      "Метрика 'Максимального отклонения'\n",
      "Сэмплы, когда min_max_linked дает результаты хуже, чем group_average_linked\n",
      "Номер выборки 40\n",
      "[[160.8 156.6]\n",
      " [194.  144.3]\n",
      " [171.5 175.6]\n",
      " [212.8 184.6]\n",
      " [199.1 231.5]]\n",
      "\n",
      "Номер выборки 43\n",
      "[[155.8 152.7]\n",
      " [124.2 166.1]\n",
      " [ 94.5  81.4]\n",
      " [164.1 146.2]\n",
      " [103.4 116.2]]\n",
      "\n",
      "Номер выборки 99\n",
      "[[111.1 104.2]\n",
      " [142.3  97.6]\n",
      " [143.4 163.4]\n",
      " [ 93.5 104.1]\n",
      " [112.6 164.8]]\n",
      "\n"
     ]
    }
   ],
   "source": [
    "comparison_of_two(ResultsForMax, Samples, 'min_max_linked', 'group_average_linked', 'max')"
   ]
  },
  {
   "cell_type": "code",
   "execution_count": null,
   "metadata": {},
   "outputs": [
    {
     "name": "stdout",
     "output_type": "stream",
     "text": [
      "Метрика 'Максимального отклонения'\n",
      "Сэмплы, когда min_max_linked дает результаты хуже, чем median_linked\n",
      "Номер выборки 25\n",
      "[[120.9  71.2]\n",
      " [195.  230.7]\n",
      " [ 79.9 115.8]\n",
      " [130.4 159.6]\n",
      " [128.6 187. ]]\n",
      "\n",
      "Номер выборки 43\n",
      "[[155.8 152.7]\n",
      " [124.2 166.1]\n",
      " [ 94.5  81.4]\n",
      " [164.1 146.2]\n",
      " [103.4 116.2]]\n",
      "\n",
      "Номер выборки 99\n",
      "[[111.1 104.2]\n",
      " [142.3  97.6]\n",
      " [143.4 163.4]\n",
      " [ 93.5 104.1]\n",
      " [112.6 164.8]]\n",
      "\n"
     ]
    }
   ],
   "source": [
    "comparison_of_two(ResultsForMax, Samples, 'min_max_linked', 'median_linked', 'max')"
   ]
  },
  {
   "cell_type": "code",
   "execution_count": null,
   "metadata": {},
   "outputs": [],
   "source": []
  },
  {
   "cell_type": "code",
   "execution_count": null,
   "metadata": {},
   "outputs": [],
   "source": []
  },
  {
   "cell_type": "code",
   "execution_count": null,
   "metadata": {},
   "outputs": [
    {
     "data": {
      "text/html": [
       "<div>\n",
       "<style scoped>\n",
       "    .dataframe tbody tr th:only-of-type {\n",
       "        vertical-align: middle;\n",
       "    }\n",
       "\n",
       "    .dataframe tbody tr th {\n",
       "        vertical-align: top;\n",
       "    }\n",
       "\n",
       "    .dataframe thead th {\n",
       "        text-align: right;\n",
       "    }\n",
       "</style>\n",
       "<table border=\"1\" class=\"dataframe\">\n",
       "  <thead>\n",
       "    <tr style=\"text-align: right;\">\n",
       "      <th></th>\n",
       "      <th>x</th>\n",
       "      <th>y</th>\n",
       "    </tr>\n",
       "  </thead>\n",
       "  <tbody>\n",
       "    <tr>\n",
       "      <th>0</th>\n",
       "      <td>143.1</td>\n",
       "      <td>171.3</td>\n",
       "    </tr>\n",
       "    <tr>\n",
       "      <th>1</th>\n",
       "      <td>190.5</td>\n",
       "      <td>189.9</td>\n",
       "    </tr>\n",
       "    <tr>\n",
       "      <th>2</th>\n",
       "      <td>75.2</td>\n",
       "      <td>53.1</td>\n",
       "    </tr>\n",
       "    <tr>\n",
       "      <th>3</th>\n",
       "      <td>75.5</td>\n",
       "      <td>118.0</td>\n",
       "    </tr>\n",
       "    <tr>\n",
       "      <th>4</th>\n",
       "      <td>147.9</td>\n",
       "      <td>154.3</td>\n",
       "    </tr>\n",
       "  </tbody>\n",
       "</table>\n",
       "</div>"
      ],
      "text/plain": [
       "       x      y\n",
       "0  143.1  171.3\n",
       "1  190.5  189.9\n",
       "2   75.2   53.1\n",
       "3   75.5  118.0\n",
       "4  147.9  154.3"
      ]
     },
     "execution_count": 15,
     "metadata": {},
     "output_type": "execute_result"
    }
   ],
   "source": [
    "# test_data = np.round_(Samples[27] * 100)\n",
    "test_data = Samples[27]\n",
    "pd.DataFrame(test_data, columns=['x', 'y'])"
   ]
  },
  {
   "cell_type": "code",
   "execution_count": null,
   "metadata": {},
   "outputs": [
    {
     "data": {
      "image/png": "[encoded data removed]",
      "text/plain": [
       "<Figure size 640x480 with 1 Axes>"
      ]
     },
     "metadata": {},
     "output_type": "display_data"
    }
   ],
   "source": [
    "plt.scatter(test_data[:, 0], test_data[:, 1])\n",
    "\n",
    "for i in range(len(test_data)):\n",
    "    plt.text(test_data[i][0], test_data[i][1] + 0.03, str(i))"
   ]
  },
  {
   "cell_type": "code",
   "execution_count": null,
   "metadata": {},
   "outputs": [
    {
     "name": "stdout",
     "output_type": "stream",
     "text": [
      "Distance matrix: 0 step\n",
      "            0           1           2           3           4\n",
      "0    0.000000   50.918759  136.314526   86.085132   17.664654\n",
      "1   50.918759    0.000000  178.908720  135.626730   55.516844\n",
      "2  136.314526  178.908720    0.000000   64.900693  124.606300\n",
      "3   86.085132  135.626730   64.900693    0.000000   80.990432\n",
      "4   17.664654   55.516844  124.606300   80.990432    0.000000\n",
      "\n",
      "Clusters:['0' '1' '2' '3' '4']\n",
      "\n",
      "\n",
      "('Clusters:', array(['(0, 4)', '1', '2', '3'], dtype='<U25'))\n",
      "Distance matrix: 1 step\n",
      "            (0, 4)           1           2           3\n",
      "(0, 4)    0.000000   53.217802  130.460413   83.537782\n",
      "1        53.217802    0.000000  178.908720  135.626730\n",
      "2       130.460413  178.908720    0.000000   64.900693\n",
      "3        83.537782  135.626730   64.900693    0.000000\n",
      "\n",
      "\n",
      "\n",
      "('Clusters:', array(['((0, 4), 1)', '2', '3'], dtype='<U25'))\n",
      "Distance matrix: 2 step\n",
      "             ((0, 4), 1)           2           3\n",
      "((0, 4), 1)     0.000000  151.757510  108.308581\n",
      "2             151.757510    0.000000   64.900693\n",
      "3             108.308581   64.900693    0.000000\n",
      "\n",
      "\n",
      "\n",
      "('Clusters:', array(['(2, 3)', '((0, 4), 1)'], dtype='<U25'))\n",
      "Distance matrix: 3 step\n",
      "                 (2, 3)  ((0, 4), 1)\n",
      "(2, 3)         0.000000   129.949576\n",
      "((0, 4), 1)  129.949576     0.000000\n",
      "\n",
      "\n",
      "\n",
      "('Clusters:', array(['((2, 3), ((0, 4), 1))'], dtype='<U25'))\n",
      "Distance matrix: 4 step\n",
      "                       ((2, 3), ((0, 4), 1))\n",
      "((2, 3), ((0, 4), 1))                    0.0\n",
      "\n",
      "\n",
      "\n",
      "[17.664653973401464, 53.217801556492375, 64.90069337071833, 129.94957563819304]\n"
     ]
    }
   ],
   "source": [
    "from MinMaxHierarchy import MinMaxHierarchy\n",
    "\n",
    "clasters, init_dist, ultra_dists = MinMaxHierarchy(test_data, True)\n",
    "print(ultra_dists)"
   ]
  },
  {
   "cell_type": "code",
   "execution_count": null,
   "metadata": {},
   "outputs": [
    {
     "name": "stdout",
     "output_type": "stream",
     "text": [
      "Distance matrix: 0 step\n",
      "            0           1           2           3           4\n",
      "0    0.000000   50.918759  136.314526   86.085132   17.664654\n",
      "1   50.918759    0.000000  178.908720  135.626730   55.516844\n",
      "2  136.314526  178.908720    0.000000   64.900693  124.606300\n",
      "3   86.085132  135.626730   64.900693    0.000000   80.990432\n",
      "4   17.664654   55.516844  124.606300   80.990432    0.000000\n",
      "\n",
      "Clusters:['0' '1' '2' '3' '4']\n",
      "\n",
      "\n",
      "('Clusters:', array(['(0, 4)', '1', '2', '3'], dtype='<U25'))\n",
      "Distance matrix: 1 step\n",
      "            0           1           2           3\n",
      "0    0.000000   53.217802  130.460413   83.537782\n",
      "1   53.217802    0.000000  178.908720  135.626730\n",
      "2  130.460413  178.908720    0.000000   64.900693\n",
      "3   83.537782  135.626730   64.900693    0.000000\n",
      "\n",
      "\n",
      "\n",
      "('Clusters:', array(['((0, 4), 1)', '2', '3'], dtype='<U25'))\n",
      "Distance matrix: 2 step\n",
      "            0           1           2\n",
      "0    0.000000  154.684566  109.582256\n",
      "1  154.684566    0.000000   64.900693\n",
      "2  109.582256   64.900693    0.000000\n",
      "\n",
      "\n",
      "\n",
      "('Clusters:', array(['(2, 3)', '((0, 4), 1)'], dtype='<U25'))\n",
      "Distance matrix: 3 step\n",
      "            0           1\n",
      "0    0.000000  132.133411\n",
      "1  132.133411    0.000000\n",
      "\n",
      "\n",
      "\n",
      "('Clusters:', array(['((2, 3), ((0, 4), 1))'], dtype='<U25'))\n",
      "Distance matrix: 4 step\n",
      "     0\n",
      "0  0.0\n",
      "\n",
      "\n",
      "\n"
     ]
    },
    {
     "data": {
      "text/plain": [
       "(((2, 3), ((0, 4), 1)),\n",
       " array([[  0.        ,  50.91875882, 136.31452601,  86.08513228,\n",
       "          17.66465397],\n",
       "        [ 50.91875882,   0.        , 178.90871974, 135.6267304 ,\n",
       "          55.51684429],\n",
       "        [136.31452601, 178.90871974,   0.        ,  64.90069337,\n",
       "         124.6063    ],\n",
       "        [ 86.08513228, 135.6267304 ,  64.90069337,   0.        ,\n",
       "          80.99043153],\n",
       "        [ 17.66465397,  55.51684429, 124.6063    ,  80.99043153,\n",
       "           0.        ]]),\n",
       " [17.664653973401464,\n",
       "  53.217801556492375,\n",
       "  64.90069337071833,\n",
       "  132.13341126436086])"
      ]
     },
     "execution_count": 18,
     "metadata": {},
     "output_type": "execute_result"
    }
   ],
   "source": [
    "from HierarchyClusteringWithoutLogs import hierarchy\n",
    "from Linkages import single_linked\n",
    "from Linkages import weighted_average_linked\n",
    "\n",
    "hierarchy(test_data, metric='euclidean', method=weighted_average_linked, logs_turn_on=True)"
   ]
  },
  {
   "cell_type": "code",
   "execution_count": null,
   "metadata": {},
   "outputs": [
    {
     "name": "stdout",
     "output_type": "stream",
     "text": [
      "Distance matrix: 0 step\n",
      "            0           1           2           3           4\n",
      "0    0.000000   50.918759  136.314526   86.085132   17.664654\n",
      "1   50.918759    0.000000  178.908720  135.626730   55.516844\n",
      "2  136.314526  178.908720    0.000000   64.900693  124.606300\n",
      "3   86.085132  135.626730   64.900693    0.000000   80.990432\n",
      "4   17.664654   55.516844  124.606300   80.990432    0.000000\n",
      "\n",
      "Clusters:['0' '1' '2' '3' '4']\n",
      "\n",
      "\n",
      "('Clusters:', array(['(0, 4)', '1', '2', '3'], dtype='<U25'))\n",
      "Distance matrix: 1 step\n",
      "            (0, 4)           1           2           3\n",
      "(0, 4)    0.000000   53.217802  130.460413   83.537782\n",
      "1        53.217802    0.000000  178.908720  135.626730\n",
      "2       130.460413  178.908720    0.000000   64.900693\n",
      "3        83.537782  135.626730   64.900693    0.000000\n",
      "\n",
      "\n",
      "\n",
      "('Clusters:', array(['((0, 4), 1)', '2', '3'], dtype='<U25'))\n",
      "Distance matrix: 2 step\n",
      "             ((0, 4), 1)           2          3\n",
      "((0, 4), 1)     0.000000  136.314526  86.085132\n",
      "2             136.314526    0.000000  64.900693\n",
      "3              86.085132   64.900693   0.000000\n",
      "\n",
      "\n",
      "\n",
      "('Clusters:', array(['(2, 3)', '((0, 4), 1)'], dtype='<U25'))\n",
      "Distance matrix: 3 step\n",
      "                 (2, 3)  ((0, 4), 1)\n",
      "(2, 3)         0.000000   130.116515\n",
      "((0, 4), 1)  130.116515     0.000000\n",
      "\n",
      "\n",
      "\n",
      "('Clusters:', array(['((2, 3), ((0, 4), 1))'], dtype='<U25'))\n",
      "Distance matrix: 4 step\n",
      "                       ((2, 3), ((0, 4), 1))\n",
      "((2, 3), ((0, 4), 1))                    0.0\n",
      "\n",
      "\n",
      "\n",
      "[17.664653973401464, 53.217801556492375, 64.90069337071833, 130.11651520247582]\n"
     ]
    }
   ],
   "source": [
    "from MedianHierarchy import MedianHierarchy\n",
    "\n",
    "clasters, init_dist, ultra_dists = MedianHierarchy(test_data, True)\n",
    "print(ultra_dists)"
   ]
  },
  {
   "cell_type": "code",
   "execution_count": null,
   "metadata": {},
   "outputs": [],
   "source": []
  },
  {
   "cell_type": "code",
   "execution_count": null,
   "metadata": {},
   "outputs": [],
   "source": []
  },
  {
   "cell_type": "code",
   "execution_count": null,
   "metadata": {},
   "outputs": [],
   "source": []
  }
 ],
 "metadata": {
  "kernelspec": {
   "display_name": "venv",
   "language": "python",
   "name": "python3"
  },
  "language_info": {
   "codemirror_mode": {
    "name": "ipython",
    "version": 3
   },
   "file_extension": ".py",
   "mimetype": "text/x-python",
   "name": "python",
   "nbconvert_exporter": "python",
   "pygments_lexer": "ipython3",
   "version": "3.10.2"
  },
  "orig_nbformat": 4,
  "vscode": {
   "interpreter": {
    "hash": "c6ffd68500972d28465f021baa2ff4a7fbf6f841c23c59c0980ff9e31e376a9e"
   }
  }
 },
 "nbformat": 4,
 "nbformat_minor": 2
}
